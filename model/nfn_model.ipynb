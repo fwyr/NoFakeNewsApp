{
  "nbformat": 4,
  "nbformat_minor": 0,
  "metadata": {
    "colab": {
      "provenance": [],
      "collapsed_sections": []
    },
    "kernelspec": {
      "name": "python3",
      "display_name": "Python 3"
    },
    "language_info": {
      "name": "python"
    },
    "accelerator": "GPU",
    "gpuClass": "standard"
  },
  "cells": [
    {
      "cell_type": "markdown",
      "source": [
        "## Import necessary libraries"
      ],
      "metadata": {
        "id": "y95Fotoe4JuF"
      }
    },
    {
      "cell_type": "code",
      "execution_count": null,
      "metadata": {
        "id": "UVNgFYhM3cLq",
        "colab": {
          "base_uri": "https://localhost:8080/"
        },
        "outputId": "b43254e2-549f-4c24-bcbe-b135c37514aa"
      },
      "outputs": [
        {
          "output_type": "stream",
          "name": "stderr",
          "text": [
            "[nltk_data] Downloading package stopwords to /root/nltk_data...\n",
            "[nltk_data]   Package stopwords is already up-to-date!\n",
            "[nltk_data] Downloading package wordnet to /root/nltk_data...\n",
            "[nltk_data]   Package wordnet is already up-to-date!\n",
            "[nltk_data] Downloading package omw-1.4 to /root/nltk_data...\n",
            "[nltk_data]   Package omw-1.4 is already up-to-date!\n",
            "[nltk_data] Downloading package punkt to /root/nltk_data...\n",
            "[nltk_data]   Package punkt is already up-to-date!\n"
          ]
        }
      ],
      "source": [
        "import pandas as pd\n",
        "import numpy as np\n",
        "import matplotlib.pyplot as plt\n",
        "import seaborn as sns\n",
        "# text processing\n",
        "import re\n",
        "import nltk\n",
        "from nltk.tokenize import word_tokenize\n",
        "from nltk.corpus import stopwords\n",
        "from nltk.corpus import wordnet\n",
        "from nltk.stem import SnowballStemmer\n",
        "from nltk.stem import WordNetLemmatizer\n",
        "# model\n",
        "import tensorflow as tf\n",
        "from tensorflow import keras\n",
        "from keras.preprocessing.text import Tokenizer\n",
        "from keras.preprocessing.sequence import pad_sequences\n",
        "from keras.layers import Dense, Embedding, LSTM, Conv1D, MaxPool1D\n",
        "from keras.models import Sequential\n",
        "from sklearn import metrics\n",
        "from sklearn.model_selection import train_test_split\n",
        "from sklearn.linear_model import LogisticRegression\n",
        "import gensim\n",
        "# saving/loading\n",
        "import io\n",
        "import json"
      ]
    },
    {
      "cell_type": "markdown",
      "source": [
        "## Upload data"
      ],
      "metadata": {
        "id": "wS2KPgHZ4JY2"
      }
    },
    {
      "cell_type": "code",
      "source": [
        "# load data\n",
        "from google.colab import drive\n",
        "drive.mount('/gdrive')\n",
        "\n",
        "%cd '/gdrive/My Drive/projects/22: Splash/data'\n",
        "%ls"
      ],
      "metadata": {
        "id": "mAkT85iJAikA",
        "colab": {
          "base_uri": "https://localhost:8080/"
        },
        "outputId": "f7bea0c7-f4df-4e77-80f3-9f92e248bc83"
      },
      "execution_count": null,
      "outputs": [
        {
          "output_type": "stream",
          "name": "stdout",
          "text": [
            "Mounted at /gdrive\n",
            "/gdrive/My Drive/projects/22: Splash/data\n",
            "cna_covid.csv         fake.csv            onion_pol.csv    straits_pol.csv\n",
            "cna_cri.csv           nfn_model.h5        straits_con.csv  straits_tra.csv\n",
            "cna_ent.csv           nfn_tokenizer.json  straits_cou.csv  tokenizer.json\n",
            "cna_health.csv        onion_ent.csv       straits_env.csv  true.csv\n",
            "cna_sus.csv           onion_loc.csv       straits_hea.csv\n",
            "Constraint_Train.csv  onion_new.csv       straits_job.csv\n"
          ]
        }
      ]
    },
    {
      "cell_type": "markdown",
      "source": [
        "## Exploring datasets"
      ],
      "metadata": {
        "id": "sEMtuG4x67EG"
      }
    },
    {
      "cell_type": "code",
      "source": [
        "# load fake datasets\n",
        "kaggle_fake = pd.read_csv('fake.csv')\n",
        "onion_ent = pd.read_csv('onion_ent.csv')\n",
        "onion_loc = pd.read_csv('onion_loc.csv')\n",
        "onion_new = pd.read_csv('onion_new.csv')\n",
        "onion_pol = pd.read_csv('onion_pol.csv')\n",
        "\n",
        "# load true datasets\n",
        "kaggle_true = pd.read_csv('true.csv')\n",
        "cna_cov = pd.read_csv('cna_covid.csv')\n",
        "cna_cri = pd.read_csv('cna_cri.csv')\n",
        "cna_ent = pd.read_csv('cna_ent.csv')\n",
        "cna_hea = pd.read_csv('cna_health.csv')\n",
        "cna_sus = pd.read_csv('cna_sus.csv')\n",
        "straits_con = pd.read_csv('straits_con.csv')\n",
        "straits_cou = pd.read_csv('straits_cou.csv')\n",
        "straits_env = pd.read_csv('straits_env.csv')\n",
        "straits_hea = pd.read_csv('straits_hea.csv')\n",
        "straits_job = pd.read_csv('straits_job.csv')\n",
        "straits_pol = pd.read_csv('straits_pol.csv')\n",
        "straits_tra = pd.read_csv('straits_tra.csv')"
      ],
      "metadata": {
        "id": "TyTPlAt86sjb"
      },
      "execution_count": null,
      "outputs": []
    },
    {
      "cell_type": "code",
      "source": [
        "kaggle_true.drop(kaggle_true.tail(18000).index, inplace=True)\n",
        "kaggle_fake.drop(kaggle_fake.tail(18000).index, inplace=True)"
      ],
      "metadata": {
        "id": "qCCPKZipMS1O"
      },
      "execution_count": null,
      "outputs": []
    },
    {
      "cell_type": "code",
      "source": [
        "kaggle_fake.describe()"
      ],
      "metadata": {
        "colab": {
          "base_uri": "https://localhost:8080/",
          "height": 175
        },
        "id": "1Y_TVbFQNaUw",
        "outputId": "e9b7fd1f-4e91-4aa4-9ec5-9f977b4ba999"
      },
      "execution_count": null,
      "outputs": [
        {
          "output_type": "execute_result",
          "data": {
            "text/plain": [
              "                                                    title  \\\n",
              "count                                                5481   \n",
              "unique                                               5480   \n",
              "top      McConnell Says He’ll Obstruct ANY Effort To H...   \n",
              "freq                                                    2   \n",
              "\n",
              "                                                     text subject  \\\n",
              "count                                                5481    5481   \n",
              "unique                                               5481       1   \n",
              "top     Donald Trump just couldn t wish all Americans ...    News   \n",
              "freq                                                    1    5481   \n",
              "\n",
              "                    date  \n",
              "count               5481  \n",
              "unique               528  \n",
              "top     January 25, 2017  \n",
              "freq                  23  "
            ],
            "text/html": [
              "\n",
              "  <div id=\"df-e4ded549-a602-4350-b960-f6cbd6e919aa\">\n",
              "    <div class=\"colab-df-container\">\n",
              "      <div>\n",
              "<style scoped>\n",
              "    .dataframe tbody tr th:only-of-type {\n",
              "        vertical-align: middle;\n",
              "    }\n",
              "\n",
              "    .dataframe tbody tr th {\n",
              "        vertical-align: top;\n",
              "    }\n",
              "\n",
              "    .dataframe thead th {\n",
              "        text-align: right;\n",
              "    }\n",
              "</style>\n",
              "<table border=\"1\" class=\"dataframe\">\n",
              "  <thead>\n",
              "    <tr style=\"text-align: right;\">\n",
              "      <th></th>\n",
              "      <th>title</th>\n",
              "      <th>text</th>\n",
              "      <th>subject</th>\n",
              "      <th>date</th>\n",
              "    </tr>\n",
              "  </thead>\n",
              "  <tbody>\n",
              "    <tr>\n",
              "      <th>count</th>\n",
              "      <td>5481</td>\n",
              "      <td>5481</td>\n",
              "      <td>5481</td>\n",
              "      <td>5481</td>\n",
              "    </tr>\n",
              "    <tr>\n",
              "      <th>unique</th>\n",
              "      <td>5480</td>\n",
              "      <td>5481</td>\n",
              "      <td>1</td>\n",
              "      <td>528</td>\n",
              "    </tr>\n",
              "    <tr>\n",
              "      <th>top</th>\n",
              "      <td>McConnell Says He’ll Obstruct ANY Effort To H...</td>\n",
              "      <td>Donald Trump just couldn t wish all Americans ...</td>\n",
              "      <td>News</td>\n",
              "      <td>January 25, 2017</td>\n",
              "    </tr>\n",
              "    <tr>\n",
              "      <th>freq</th>\n",
              "      <td>2</td>\n",
              "      <td>1</td>\n",
              "      <td>5481</td>\n",
              "      <td>23</td>\n",
              "    </tr>\n",
              "  </tbody>\n",
              "</table>\n",
              "</div>\n",
              "      <button class=\"colab-df-convert\" onclick=\"convertToInteractive('df-e4ded549-a602-4350-b960-f6cbd6e919aa')\"\n",
              "              title=\"Convert this dataframe to an interactive table.\"\n",
              "              style=\"display:none;\">\n",
              "        \n",
              "  <svg xmlns=\"http://www.w3.org/2000/svg\" height=\"24px\"viewBox=\"0 0 24 24\"\n",
              "       width=\"24px\">\n",
              "    <path d=\"M0 0h24v24H0V0z\" fill=\"none\"/>\n",
              "    <path d=\"M18.56 5.44l.94 2.06.94-2.06 2.06-.94-2.06-.94-.94-2.06-.94 2.06-2.06.94zm-11 1L8.5 8.5l.94-2.06 2.06-.94-2.06-.94L8.5 2.5l-.94 2.06-2.06.94zm10 10l.94 2.06.94-2.06 2.06-.94-2.06-.94-.94-2.06-.94 2.06-2.06.94z\"/><path d=\"M17.41 7.96l-1.37-1.37c-.4-.4-.92-.59-1.43-.59-.52 0-1.04.2-1.43.59L10.3 9.45l-7.72 7.72c-.78.78-.78 2.05 0 2.83L4 21.41c.39.39.9.59 1.41.59.51 0 1.02-.2 1.41-.59l7.78-7.78 2.81-2.81c.8-.78.8-2.07 0-2.86zM5.41 20L4 18.59l7.72-7.72 1.47 1.35L5.41 20z\"/>\n",
              "  </svg>\n",
              "      </button>\n",
              "      \n",
              "  <style>\n",
              "    .colab-df-container {\n",
              "      display:flex;\n",
              "      flex-wrap:wrap;\n",
              "      gap: 12px;\n",
              "    }\n",
              "\n",
              "    .colab-df-convert {\n",
              "      background-color: #E8F0FE;\n",
              "      border: none;\n",
              "      border-radius: 50%;\n",
              "      cursor: pointer;\n",
              "      display: none;\n",
              "      fill: #1967D2;\n",
              "      height: 32px;\n",
              "      padding: 0 0 0 0;\n",
              "      width: 32px;\n",
              "    }\n",
              "\n",
              "    .colab-df-convert:hover {\n",
              "      background-color: #E2EBFA;\n",
              "      box-shadow: 0px 1px 2px rgba(60, 64, 67, 0.3), 0px 1px 3px 1px rgba(60, 64, 67, 0.15);\n",
              "      fill: #174EA6;\n",
              "    }\n",
              "\n",
              "    [theme=dark] .colab-df-convert {\n",
              "      background-color: #3B4455;\n",
              "      fill: #D2E3FC;\n",
              "    }\n",
              "\n",
              "    [theme=dark] .colab-df-convert:hover {\n",
              "      background-color: #434B5C;\n",
              "      box-shadow: 0px 1px 3px 1px rgba(0, 0, 0, 0.15);\n",
              "      filter: drop-shadow(0px 1px 2px rgba(0, 0, 0, 0.3));\n",
              "      fill: #FFFFFF;\n",
              "    }\n",
              "  </style>\n",
              "\n",
              "      <script>\n",
              "        const buttonEl =\n",
              "          document.querySelector('#df-e4ded549-a602-4350-b960-f6cbd6e919aa button.colab-df-convert');\n",
              "        buttonEl.style.display =\n",
              "          google.colab.kernel.accessAllowed ? 'block' : 'none';\n",
              "\n",
              "        async function convertToInteractive(key) {\n",
              "          const element = document.querySelector('#df-e4ded549-a602-4350-b960-f6cbd6e919aa');\n",
              "          const dataTable =\n",
              "            await google.colab.kernel.invokeFunction('convertToInteractive',\n",
              "                                                     [key], {});\n",
              "          if (!dataTable) return;\n",
              "\n",
              "          const docLinkHtml = 'Like what you see? Visit the ' +\n",
              "            '<a target=\"_blank\" href=https://colab.research.google.com/notebooks/data_table.ipynb>data table notebook</a>'\n",
              "            + ' to learn more about interactive tables.';\n",
              "          element.innerHTML = '';\n",
              "          dataTable['output_type'] = 'display_data';\n",
              "          await google.colab.output.renderOutput(dataTable, element);\n",
              "          const docLink = document.createElement('div');\n",
              "          docLink.innerHTML = docLinkHtml;\n",
              "          element.appendChild(docLink);\n",
              "        }\n",
              "      </script>\n",
              "    </div>\n",
              "  </div>\n",
              "  "
            ]
          },
          "metadata": {},
          "execution_count": 158
        }
      ]
    },
    {
      "cell_type": "code",
      "source": [
        "onion = pd.concat([onion_ent, onion_loc, onion_new, onion_pol])\n",
        "cna = pd.concat([cna_cov, cna_cri, cna_ent, cna_hea, cna_sus])\n",
        "straits = pd.concat([straits_con, straits_cou, straits_env, straits_hea, straits_job, straits_pol, straits_tra])"
      ],
      "metadata": {
        "id": "yqalW6apKq4l"
      },
      "execution_count": null,
      "outputs": []
    },
    {
      "cell_type": "code",
      "source": [
        "# remove unnecessary columns\n",
        "onion = onion.drop(['Link', 'Title'], axis=1)\n",
        "onion['text'] = onion['Content']\n",
        "onion = onion.drop(['Content'], axis=1)"
      ],
      "metadata": {
        "id": "zzEQYOspLM3t"
      },
      "execution_count": null,
      "outputs": []
    },
    {
      "cell_type": "code",
      "source": [
        "cna = cna.drop(['Link', 'Title'], axis=1)\n",
        "cna['text'] = cna['Content']\n",
        "cna = cna.drop(['Content'], axis=1)"
      ],
      "metadata": {
        "id": "vJ7Gn2-HLb1e"
      },
      "execution_count": null,
      "outputs": []
    },
    {
      "cell_type": "code",
      "source": [
        "straits = straits.drop(['Link', 'Title'], axis=1)\n",
        "straits['text'] = straits['Content']\n",
        "straits = straits.drop(['Content'], axis=1)"
      ],
      "metadata": {
        "id": "jbaZJWPuLoAW"
      },
      "execution_count": null,
      "outputs": []
    },
    {
      "cell_type": "code",
      "source": [
        "kaggle_fake = kaggle_fake.drop(['subject', 'title', 'date'], axis=1)\n",
        "kaggle_true = kaggle_true.drop(['subject', 'title', 'date'], axis=1)"
      ],
      "metadata": {
        "id": "QGT3kEl1LrFP"
      },
      "execution_count": null,
      "outputs": []
    },
    {
      "cell_type": "code",
      "source": [
        "fake = pd.concat([kaggle_fake, onion])\n",
        "true = pd.concat([kaggle_true, cna, straits])"
      ],
      "metadata": {
        "id": "i19viET5L5jh"
      },
      "execution_count": null,
      "outputs": []
    },
    {
      "cell_type": "code",
      "source": [
        "fake.head()"
      ],
      "metadata": {
        "colab": {
          "base_uri": "https://localhost:8080/",
          "height": 206
        },
        "id": "wktBdoUv9HV8",
        "outputId": "6e378425-5e8f-4565-9177-f6586ced58b4"
      },
      "execution_count": null,
      "outputs": [
        {
          "output_type": "execute_result",
          "data": {
            "text/plain": [
              "                                                text\n",
              "0  Donald Trump just couldn t wish all Americans ...\n",
              "1  House Intelligence Committee Chairman Devin Nu...\n",
              "2  On Friday, it was revealed that former Milwauk...\n",
              "3  On Christmas day, Donald Trump announced that ...\n",
              "4  Pope Francis used his annual Christmas Day mes..."
            ],
            "text/html": [
              "\n",
              "  <div id=\"df-8203b3ce-2bd6-4d92-9174-385c47ebc717\">\n",
              "    <div class=\"colab-df-container\">\n",
              "      <div>\n",
              "<style scoped>\n",
              "    .dataframe tbody tr th:only-of-type {\n",
              "        vertical-align: middle;\n",
              "    }\n",
              "\n",
              "    .dataframe tbody tr th {\n",
              "        vertical-align: top;\n",
              "    }\n",
              "\n",
              "    .dataframe thead th {\n",
              "        text-align: right;\n",
              "    }\n",
              "</style>\n",
              "<table border=\"1\" class=\"dataframe\">\n",
              "  <thead>\n",
              "    <tr style=\"text-align: right;\">\n",
              "      <th></th>\n",
              "      <th>text</th>\n",
              "    </tr>\n",
              "  </thead>\n",
              "  <tbody>\n",
              "    <tr>\n",
              "      <th>0</th>\n",
              "      <td>Donald Trump just couldn t wish all Americans ...</td>\n",
              "    </tr>\n",
              "    <tr>\n",
              "      <th>1</th>\n",
              "      <td>House Intelligence Committee Chairman Devin Nu...</td>\n",
              "    </tr>\n",
              "    <tr>\n",
              "      <th>2</th>\n",
              "      <td>On Friday, it was revealed that former Milwauk...</td>\n",
              "    </tr>\n",
              "    <tr>\n",
              "      <th>3</th>\n",
              "      <td>On Christmas day, Donald Trump announced that ...</td>\n",
              "    </tr>\n",
              "    <tr>\n",
              "      <th>4</th>\n",
              "      <td>Pope Francis used his annual Christmas Day mes...</td>\n",
              "    </tr>\n",
              "  </tbody>\n",
              "</table>\n",
              "</div>\n",
              "      <button class=\"colab-df-convert\" onclick=\"convertToInteractive('df-8203b3ce-2bd6-4d92-9174-385c47ebc717')\"\n",
              "              title=\"Convert this dataframe to an interactive table.\"\n",
              "              style=\"display:none;\">\n",
              "        \n",
              "  <svg xmlns=\"http://www.w3.org/2000/svg\" height=\"24px\"viewBox=\"0 0 24 24\"\n",
              "       width=\"24px\">\n",
              "    <path d=\"M0 0h24v24H0V0z\" fill=\"none\"/>\n",
              "    <path d=\"M18.56 5.44l.94 2.06.94-2.06 2.06-.94-2.06-.94-.94-2.06-.94 2.06-2.06.94zm-11 1L8.5 8.5l.94-2.06 2.06-.94-2.06-.94L8.5 2.5l-.94 2.06-2.06.94zm10 10l.94 2.06.94-2.06 2.06-.94-2.06-.94-.94-2.06-.94 2.06-2.06.94z\"/><path d=\"M17.41 7.96l-1.37-1.37c-.4-.4-.92-.59-1.43-.59-.52 0-1.04.2-1.43.59L10.3 9.45l-7.72 7.72c-.78.78-.78 2.05 0 2.83L4 21.41c.39.39.9.59 1.41.59.51 0 1.02-.2 1.41-.59l7.78-7.78 2.81-2.81c.8-.78.8-2.07 0-2.86zM5.41 20L4 18.59l7.72-7.72 1.47 1.35L5.41 20z\"/>\n",
              "  </svg>\n",
              "      </button>\n",
              "      \n",
              "  <style>\n",
              "    .colab-df-container {\n",
              "      display:flex;\n",
              "      flex-wrap:wrap;\n",
              "      gap: 12px;\n",
              "    }\n",
              "\n",
              "    .colab-df-convert {\n",
              "      background-color: #E8F0FE;\n",
              "      border: none;\n",
              "      border-radius: 50%;\n",
              "      cursor: pointer;\n",
              "      display: none;\n",
              "      fill: #1967D2;\n",
              "      height: 32px;\n",
              "      padding: 0 0 0 0;\n",
              "      width: 32px;\n",
              "    }\n",
              "\n",
              "    .colab-df-convert:hover {\n",
              "      background-color: #E2EBFA;\n",
              "      box-shadow: 0px 1px 2px rgba(60, 64, 67, 0.3), 0px 1px 3px 1px rgba(60, 64, 67, 0.15);\n",
              "      fill: #174EA6;\n",
              "    }\n",
              "\n",
              "    [theme=dark] .colab-df-convert {\n",
              "      background-color: #3B4455;\n",
              "      fill: #D2E3FC;\n",
              "    }\n",
              "\n",
              "    [theme=dark] .colab-df-convert:hover {\n",
              "      background-color: #434B5C;\n",
              "      box-shadow: 0px 1px 3px 1px rgba(0, 0, 0, 0.15);\n",
              "      filter: drop-shadow(0px 1px 2px rgba(0, 0, 0, 0.3));\n",
              "      fill: #FFFFFF;\n",
              "    }\n",
              "  </style>\n",
              "\n",
              "      <script>\n",
              "        const buttonEl =\n",
              "          document.querySelector('#df-8203b3ce-2bd6-4d92-9174-385c47ebc717 button.colab-df-convert');\n",
              "        buttonEl.style.display =\n",
              "          google.colab.kernel.accessAllowed ? 'block' : 'none';\n",
              "\n",
              "        async function convertToInteractive(key) {\n",
              "          const element = document.querySelector('#df-8203b3ce-2bd6-4d92-9174-385c47ebc717');\n",
              "          const dataTable =\n",
              "            await google.colab.kernel.invokeFunction('convertToInteractive',\n",
              "                                                     [key], {});\n",
              "          if (!dataTable) return;\n",
              "\n",
              "          const docLinkHtml = 'Like what you see? Visit the ' +\n",
              "            '<a target=\"_blank\" href=https://colab.research.google.com/notebooks/data_table.ipynb>data table notebook</a>'\n",
              "            + ' to learn more about interactive tables.';\n",
              "          element.innerHTML = '';\n",
              "          dataTable['output_type'] = 'display_data';\n",
              "          await google.colab.output.renderOutput(dataTable, element);\n",
              "          const docLink = document.createElement('div');\n",
              "          docLink.innerHTML = docLinkHtml;\n",
              "          element.appendChild(docLink);\n",
              "        }\n",
              "      </script>\n",
              "    </div>\n",
              "  </div>\n",
              "  "
            ]
          },
          "metadata": {},
          "execution_count": 165
        }
      ]
    },
    {
      "cell_type": "code",
      "source": [
        "true.head()"
      ],
      "metadata": {
        "colab": {
          "base_uri": "https://localhost:8080/",
          "height": 206
        },
        "id": "s2IRGVUv9IJi",
        "outputId": "e1b24a26-df5a-46d3-f55b-2885dbec5111"
      },
      "execution_count": null,
      "outputs": [
        {
          "output_type": "execute_result",
          "data": {
            "text/plain": [
              "                                                text\n",
              "0  WASHINGTON (Reuters) - The head of a conservat...\n",
              "1  WASHINGTON (Reuters) - Transgender people will...\n",
              "2  WASHINGTON (Reuters) - The special counsel inv...\n",
              "3  WASHINGTON (Reuters) - Trump campaign adviser ...\n",
              "4  SEATTLE/WASHINGTON (Reuters) - President Donal..."
            ],
            "text/html": [
              "\n",
              "  <div id=\"df-f779fa1a-a92a-4475-ae85-ffcb8ba46217\">\n",
              "    <div class=\"colab-df-container\">\n",
              "      <div>\n",
              "<style scoped>\n",
              "    .dataframe tbody tr th:only-of-type {\n",
              "        vertical-align: middle;\n",
              "    }\n",
              "\n",
              "    .dataframe tbody tr th {\n",
              "        vertical-align: top;\n",
              "    }\n",
              "\n",
              "    .dataframe thead th {\n",
              "        text-align: right;\n",
              "    }\n",
              "</style>\n",
              "<table border=\"1\" class=\"dataframe\">\n",
              "  <thead>\n",
              "    <tr style=\"text-align: right;\">\n",
              "      <th></th>\n",
              "      <th>text</th>\n",
              "    </tr>\n",
              "  </thead>\n",
              "  <tbody>\n",
              "    <tr>\n",
              "      <th>0</th>\n",
              "      <td>WASHINGTON (Reuters) - The head of a conservat...</td>\n",
              "    </tr>\n",
              "    <tr>\n",
              "      <th>1</th>\n",
              "      <td>WASHINGTON (Reuters) - Transgender people will...</td>\n",
              "    </tr>\n",
              "    <tr>\n",
              "      <th>2</th>\n",
              "      <td>WASHINGTON (Reuters) - The special counsel inv...</td>\n",
              "    </tr>\n",
              "    <tr>\n",
              "      <th>3</th>\n",
              "      <td>WASHINGTON (Reuters) - Trump campaign adviser ...</td>\n",
              "    </tr>\n",
              "    <tr>\n",
              "      <th>4</th>\n",
              "      <td>SEATTLE/WASHINGTON (Reuters) - President Donal...</td>\n",
              "    </tr>\n",
              "  </tbody>\n",
              "</table>\n",
              "</div>\n",
              "      <button class=\"colab-df-convert\" onclick=\"convertToInteractive('df-f779fa1a-a92a-4475-ae85-ffcb8ba46217')\"\n",
              "              title=\"Convert this dataframe to an interactive table.\"\n",
              "              style=\"display:none;\">\n",
              "        \n",
              "  <svg xmlns=\"http://www.w3.org/2000/svg\" height=\"24px\"viewBox=\"0 0 24 24\"\n",
              "       width=\"24px\">\n",
              "    <path d=\"M0 0h24v24H0V0z\" fill=\"none\"/>\n",
              "    <path d=\"M18.56 5.44l.94 2.06.94-2.06 2.06-.94-2.06-.94-.94-2.06-.94 2.06-2.06.94zm-11 1L8.5 8.5l.94-2.06 2.06-.94-2.06-.94L8.5 2.5l-.94 2.06-2.06.94zm10 10l.94 2.06.94-2.06 2.06-.94-2.06-.94-.94-2.06-.94 2.06-2.06.94z\"/><path d=\"M17.41 7.96l-1.37-1.37c-.4-.4-.92-.59-1.43-.59-.52 0-1.04.2-1.43.59L10.3 9.45l-7.72 7.72c-.78.78-.78 2.05 0 2.83L4 21.41c.39.39.9.59 1.41.59.51 0 1.02-.2 1.41-.59l7.78-7.78 2.81-2.81c.8-.78.8-2.07 0-2.86zM5.41 20L4 18.59l7.72-7.72 1.47 1.35L5.41 20z\"/>\n",
              "  </svg>\n",
              "      </button>\n",
              "      \n",
              "  <style>\n",
              "    .colab-df-container {\n",
              "      display:flex;\n",
              "      flex-wrap:wrap;\n",
              "      gap: 12px;\n",
              "    }\n",
              "\n",
              "    .colab-df-convert {\n",
              "      background-color: #E8F0FE;\n",
              "      border: none;\n",
              "      border-radius: 50%;\n",
              "      cursor: pointer;\n",
              "      display: none;\n",
              "      fill: #1967D2;\n",
              "      height: 32px;\n",
              "      padding: 0 0 0 0;\n",
              "      width: 32px;\n",
              "    }\n",
              "\n",
              "    .colab-df-convert:hover {\n",
              "      background-color: #E2EBFA;\n",
              "      box-shadow: 0px 1px 2px rgba(60, 64, 67, 0.3), 0px 1px 3px 1px rgba(60, 64, 67, 0.15);\n",
              "      fill: #174EA6;\n",
              "    }\n",
              "\n",
              "    [theme=dark] .colab-df-convert {\n",
              "      background-color: #3B4455;\n",
              "      fill: #D2E3FC;\n",
              "    }\n",
              "\n",
              "    [theme=dark] .colab-df-convert:hover {\n",
              "      background-color: #434B5C;\n",
              "      box-shadow: 0px 1px 3px 1px rgba(0, 0, 0, 0.15);\n",
              "      filter: drop-shadow(0px 1px 2px rgba(0, 0, 0, 0.3));\n",
              "      fill: #FFFFFF;\n",
              "    }\n",
              "  </style>\n",
              "\n",
              "      <script>\n",
              "        const buttonEl =\n",
              "          document.querySelector('#df-f779fa1a-a92a-4475-ae85-ffcb8ba46217 button.colab-df-convert');\n",
              "        buttonEl.style.display =\n",
              "          google.colab.kernel.accessAllowed ? 'block' : 'none';\n",
              "\n",
              "        async function convertToInteractive(key) {\n",
              "          const element = document.querySelector('#df-f779fa1a-a92a-4475-ae85-ffcb8ba46217');\n",
              "          const dataTable =\n",
              "            await google.colab.kernel.invokeFunction('convertToInteractive',\n",
              "                                                     [key], {});\n",
              "          if (!dataTable) return;\n",
              "\n",
              "          const docLinkHtml = 'Like what you see? Visit the ' +\n",
              "            '<a target=\"_blank\" href=https://colab.research.google.com/notebooks/data_table.ipynb>data table notebook</a>'\n",
              "            + ' to learn more about interactive tables.';\n",
              "          element.innerHTML = '';\n",
              "          dataTable['output_type'] = 'display_data';\n",
              "          await google.colab.output.renderOutput(dataTable, element);\n",
              "          const docLink = document.createElement('div');\n",
              "          docLink.innerHTML = docLinkHtml;\n",
              "          element.appendChild(docLink);\n",
              "        }\n",
              "      </script>\n",
              "    </div>\n",
              "  </div>\n",
              "  "
            ]
          },
          "metadata": {},
          "execution_count": 166
        }
      ]
    },
    {
      "cell_type": "code",
      "source": [
        "# label datasets\n",
        "fake['label'] = 1\n",
        "true['label'] = 0"
      ],
      "metadata": {
        "id": "D76gD6Fv9tNC"
      },
      "execution_count": null,
      "outputs": []
    },
    {
      "cell_type": "code",
      "source": [
        "# merge both datasets\n",
        "df = pd.concat([fake, true])\n",
        "\n",
        "# randomly shuffle rows\n",
        "df = df.sample(frac=1)\n",
        "df.reset_index(inplace=True)\n",
        "df.drop('index', axis=1, inplace=True)\n",
        "\n",
        "df.head(10)"
      ],
      "metadata": {
        "colab": {
          "base_uri": "https://localhost:8080/",
          "height": 363
        },
        "id": "iDU8LQ9_-idV",
        "outputId": "8f389060-ee42-4197-b24c-dbf6ed20a4dc"
      },
      "execution_count": null,
      "outputs": [
        {
          "output_type": "execute_result",
          "data": {
            "text/plain": [
              "                                                text  label\n",
              "0  WASHINGTON (Reuters) - The U.S. Congress was w...      0\n",
              "1  SAN FRANCISCO (Reuters) - California filed a l...      0\n",
              "2  WASHINGTON (Reuters) - The U.S. Senate on Mond...      0\n",
              "3  Donald Trump s son-in-law and senior advisor, ...      1\n",
              "4  Former reality show star Donald Trump has repe...      1\n",
              "5  Apparently, Republicans were serious when they...      1\n",
              "6  WASHINGTON (Reuters) - U.S. Senate Majority Le...      0\n",
              "7  Donald Trump is all about free speech, as long...      1\n",
              "8  NEW YORK (Reuters) - Preet Bharara, the former...      0\n",
              "9  WASHINGTON (Reuters) - U.S. Senate Majority Le...      0"
            ],
            "text/html": [
              "\n",
              "  <div id=\"df-7bf89df2-25ee-40b0-b4f8-746b3f4d935a\">\n",
              "    <div class=\"colab-df-container\">\n",
              "      <div>\n",
              "<style scoped>\n",
              "    .dataframe tbody tr th:only-of-type {\n",
              "        vertical-align: middle;\n",
              "    }\n",
              "\n",
              "    .dataframe tbody tr th {\n",
              "        vertical-align: top;\n",
              "    }\n",
              "\n",
              "    .dataframe thead th {\n",
              "        text-align: right;\n",
              "    }\n",
              "</style>\n",
              "<table border=\"1\" class=\"dataframe\">\n",
              "  <thead>\n",
              "    <tr style=\"text-align: right;\">\n",
              "      <th></th>\n",
              "      <th>text</th>\n",
              "      <th>label</th>\n",
              "    </tr>\n",
              "  </thead>\n",
              "  <tbody>\n",
              "    <tr>\n",
              "      <th>0</th>\n",
              "      <td>WASHINGTON (Reuters) - The U.S. Congress was w...</td>\n",
              "      <td>0</td>\n",
              "    </tr>\n",
              "    <tr>\n",
              "      <th>1</th>\n",
              "      <td>SAN FRANCISCO (Reuters) - California filed a l...</td>\n",
              "      <td>0</td>\n",
              "    </tr>\n",
              "    <tr>\n",
              "      <th>2</th>\n",
              "      <td>WASHINGTON (Reuters) - The U.S. Senate on Mond...</td>\n",
              "      <td>0</td>\n",
              "    </tr>\n",
              "    <tr>\n",
              "      <th>3</th>\n",
              "      <td>Donald Trump s son-in-law and senior advisor, ...</td>\n",
              "      <td>1</td>\n",
              "    </tr>\n",
              "    <tr>\n",
              "      <th>4</th>\n",
              "      <td>Former reality show star Donald Trump has repe...</td>\n",
              "      <td>1</td>\n",
              "    </tr>\n",
              "    <tr>\n",
              "      <th>5</th>\n",
              "      <td>Apparently, Republicans were serious when they...</td>\n",
              "      <td>1</td>\n",
              "    </tr>\n",
              "    <tr>\n",
              "      <th>6</th>\n",
              "      <td>WASHINGTON (Reuters) - U.S. Senate Majority Le...</td>\n",
              "      <td>0</td>\n",
              "    </tr>\n",
              "    <tr>\n",
              "      <th>7</th>\n",
              "      <td>Donald Trump is all about free speech, as long...</td>\n",
              "      <td>1</td>\n",
              "    </tr>\n",
              "    <tr>\n",
              "      <th>8</th>\n",
              "      <td>NEW YORK (Reuters) - Preet Bharara, the former...</td>\n",
              "      <td>0</td>\n",
              "    </tr>\n",
              "    <tr>\n",
              "      <th>9</th>\n",
              "      <td>WASHINGTON (Reuters) - U.S. Senate Majority Le...</td>\n",
              "      <td>0</td>\n",
              "    </tr>\n",
              "  </tbody>\n",
              "</table>\n",
              "</div>\n",
              "      <button class=\"colab-df-convert\" onclick=\"convertToInteractive('df-7bf89df2-25ee-40b0-b4f8-746b3f4d935a')\"\n",
              "              title=\"Convert this dataframe to an interactive table.\"\n",
              "              style=\"display:none;\">\n",
              "        \n",
              "  <svg xmlns=\"http://www.w3.org/2000/svg\" height=\"24px\"viewBox=\"0 0 24 24\"\n",
              "       width=\"24px\">\n",
              "    <path d=\"M0 0h24v24H0V0z\" fill=\"none\"/>\n",
              "    <path d=\"M18.56 5.44l.94 2.06.94-2.06 2.06-.94-2.06-.94-.94-2.06-.94 2.06-2.06.94zm-11 1L8.5 8.5l.94-2.06 2.06-.94-2.06-.94L8.5 2.5l-.94 2.06-2.06.94zm10 10l.94 2.06.94-2.06 2.06-.94-2.06-.94-.94-2.06-.94 2.06-2.06.94z\"/><path d=\"M17.41 7.96l-1.37-1.37c-.4-.4-.92-.59-1.43-.59-.52 0-1.04.2-1.43.59L10.3 9.45l-7.72 7.72c-.78.78-.78 2.05 0 2.83L4 21.41c.39.39.9.59 1.41.59.51 0 1.02-.2 1.41-.59l7.78-7.78 2.81-2.81c.8-.78.8-2.07 0-2.86zM5.41 20L4 18.59l7.72-7.72 1.47 1.35L5.41 20z\"/>\n",
              "  </svg>\n",
              "      </button>\n",
              "      \n",
              "  <style>\n",
              "    .colab-df-container {\n",
              "      display:flex;\n",
              "      flex-wrap:wrap;\n",
              "      gap: 12px;\n",
              "    }\n",
              "\n",
              "    .colab-df-convert {\n",
              "      background-color: #E8F0FE;\n",
              "      border: none;\n",
              "      border-radius: 50%;\n",
              "      cursor: pointer;\n",
              "      display: none;\n",
              "      fill: #1967D2;\n",
              "      height: 32px;\n",
              "      padding: 0 0 0 0;\n",
              "      width: 32px;\n",
              "    }\n",
              "\n",
              "    .colab-df-convert:hover {\n",
              "      background-color: #E2EBFA;\n",
              "      box-shadow: 0px 1px 2px rgba(60, 64, 67, 0.3), 0px 1px 3px 1px rgba(60, 64, 67, 0.15);\n",
              "      fill: #174EA6;\n",
              "    }\n",
              "\n",
              "    [theme=dark] .colab-df-convert {\n",
              "      background-color: #3B4455;\n",
              "      fill: #D2E3FC;\n",
              "    }\n",
              "\n",
              "    [theme=dark] .colab-df-convert:hover {\n",
              "      background-color: #434B5C;\n",
              "      box-shadow: 0px 1px 3px 1px rgba(0, 0, 0, 0.15);\n",
              "      filter: drop-shadow(0px 1px 2px rgba(0, 0, 0, 0.3));\n",
              "      fill: #FFFFFF;\n",
              "    }\n",
              "  </style>\n",
              "\n",
              "      <script>\n",
              "        const buttonEl =\n",
              "          document.querySelector('#df-7bf89df2-25ee-40b0-b4f8-746b3f4d935a button.colab-df-convert');\n",
              "        buttonEl.style.display =\n",
              "          google.colab.kernel.accessAllowed ? 'block' : 'none';\n",
              "\n",
              "        async function convertToInteractive(key) {\n",
              "          const element = document.querySelector('#df-7bf89df2-25ee-40b0-b4f8-746b3f4d935a');\n",
              "          const dataTable =\n",
              "            await google.colab.kernel.invokeFunction('convertToInteractive',\n",
              "                                                     [key], {});\n",
              "          if (!dataTable) return;\n",
              "\n",
              "          const docLinkHtml = 'Like what you see? Visit the ' +\n",
              "            '<a target=\"_blank\" href=https://colab.research.google.com/notebooks/data_table.ipynb>data table notebook</a>'\n",
              "            + ' to learn more about interactive tables.';\n",
              "          element.innerHTML = '';\n",
              "          dataTable['output_type'] = 'display_data';\n",
              "          await google.colab.output.renderOutput(dataTable, element);\n",
              "          const docLink = document.createElement('div');\n",
              "          docLink.innerHTML = docLinkHtml;\n",
              "          element.appendChild(docLink);\n",
              "        }\n",
              "      </script>\n",
              "    </div>\n",
              "  </div>\n",
              "  "
            ]
          },
          "metadata": {},
          "execution_count": 168
        }
      ]
    },
    {
      "cell_type": "markdown",
      "source": [
        "## Preparing data"
      ],
      "metadata": {
        "id": "Odzar4Fy_TiN"
      }
    },
    {
      "cell_type": "code",
      "source": [
        "# checking info of datasets\n",
        "df.info()\n",
        "df.describe()"
      ],
      "metadata": {
        "colab": {
          "base_uri": "https://localhost:8080/",
          "height": 466
        },
        "id": "fwrWfdIA_XLH",
        "outputId": "07c4da47-d038-4be5-d3a4-1ee15a3b1238"
      },
      "execution_count": null,
      "outputs": [
        {
          "output_type": "stream",
          "name": "stdout",
          "text": [
            "<class 'pandas.core.frame.DataFrame'>\n",
            "RangeIndex: 12537 entries, 0 to 12536\n",
            "Data columns (total 2 columns):\n",
            " #   Column  Non-Null Count  Dtype \n",
            "---  ------  --------------  ----- \n",
            " 0   text    12537 non-null  object\n",
            " 1   label   12537 non-null  int64 \n",
            "dtypes: int64(1), object(1)\n",
            "memory usage: 196.0+ KB\n"
          ]
        },
        {
          "output_type": "execute_result",
          "data": {
            "text/plain": [
              "              label\n",
              "count  12537.000000\n",
              "mean       0.520140\n",
              "std        0.499614\n",
              "min        0.000000\n",
              "25%        0.000000\n",
              "50%        1.000000\n",
              "75%        1.000000\n",
              "max        1.000000"
            ],
            "text/html": [
              "\n",
              "  <div id=\"df-e4d88133-ab81-4332-87ca-b64a7d6873be\">\n",
              "    <div class=\"colab-df-container\">\n",
              "      <div>\n",
              "<style scoped>\n",
              "    .dataframe tbody tr th:only-of-type {\n",
              "        vertical-align: middle;\n",
              "    }\n",
              "\n",
              "    .dataframe tbody tr th {\n",
              "        vertical-align: top;\n",
              "    }\n",
              "\n",
              "    .dataframe thead th {\n",
              "        text-align: right;\n",
              "    }\n",
              "</style>\n",
              "<table border=\"1\" class=\"dataframe\">\n",
              "  <thead>\n",
              "    <tr style=\"text-align: right;\">\n",
              "      <th></th>\n",
              "      <th>label</th>\n",
              "    </tr>\n",
              "  </thead>\n",
              "  <tbody>\n",
              "    <tr>\n",
              "      <th>count</th>\n",
              "      <td>12537.000000</td>\n",
              "    </tr>\n",
              "    <tr>\n",
              "      <th>mean</th>\n",
              "      <td>0.520140</td>\n",
              "    </tr>\n",
              "    <tr>\n",
              "      <th>std</th>\n",
              "      <td>0.499614</td>\n",
              "    </tr>\n",
              "    <tr>\n",
              "      <th>min</th>\n",
              "      <td>0.000000</td>\n",
              "    </tr>\n",
              "    <tr>\n",
              "      <th>25%</th>\n",
              "      <td>0.000000</td>\n",
              "    </tr>\n",
              "    <tr>\n",
              "      <th>50%</th>\n",
              "      <td>1.000000</td>\n",
              "    </tr>\n",
              "    <tr>\n",
              "      <th>75%</th>\n",
              "      <td>1.000000</td>\n",
              "    </tr>\n",
              "    <tr>\n",
              "      <th>max</th>\n",
              "      <td>1.000000</td>\n",
              "    </tr>\n",
              "  </tbody>\n",
              "</table>\n",
              "</div>\n",
              "      <button class=\"colab-df-convert\" onclick=\"convertToInteractive('df-e4d88133-ab81-4332-87ca-b64a7d6873be')\"\n",
              "              title=\"Convert this dataframe to an interactive table.\"\n",
              "              style=\"display:none;\">\n",
              "        \n",
              "  <svg xmlns=\"http://www.w3.org/2000/svg\" height=\"24px\"viewBox=\"0 0 24 24\"\n",
              "       width=\"24px\">\n",
              "    <path d=\"M0 0h24v24H0V0z\" fill=\"none\"/>\n",
              "    <path d=\"M18.56 5.44l.94 2.06.94-2.06 2.06-.94-2.06-.94-.94-2.06-.94 2.06-2.06.94zm-11 1L8.5 8.5l.94-2.06 2.06-.94-2.06-.94L8.5 2.5l-.94 2.06-2.06.94zm10 10l.94 2.06.94-2.06 2.06-.94-2.06-.94-.94-2.06-.94 2.06-2.06.94z\"/><path d=\"M17.41 7.96l-1.37-1.37c-.4-.4-.92-.59-1.43-.59-.52 0-1.04.2-1.43.59L10.3 9.45l-7.72 7.72c-.78.78-.78 2.05 0 2.83L4 21.41c.39.39.9.59 1.41.59.51 0 1.02-.2 1.41-.59l7.78-7.78 2.81-2.81c.8-.78.8-2.07 0-2.86zM5.41 20L4 18.59l7.72-7.72 1.47 1.35L5.41 20z\"/>\n",
              "  </svg>\n",
              "      </button>\n",
              "      \n",
              "  <style>\n",
              "    .colab-df-container {\n",
              "      display:flex;\n",
              "      flex-wrap:wrap;\n",
              "      gap: 12px;\n",
              "    }\n",
              "\n",
              "    .colab-df-convert {\n",
              "      background-color: #E8F0FE;\n",
              "      border: none;\n",
              "      border-radius: 50%;\n",
              "      cursor: pointer;\n",
              "      display: none;\n",
              "      fill: #1967D2;\n",
              "      height: 32px;\n",
              "      padding: 0 0 0 0;\n",
              "      width: 32px;\n",
              "    }\n",
              "\n",
              "    .colab-df-convert:hover {\n",
              "      background-color: #E2EBFA;\n",
              "      box-shadow: 0px 1px 2px rgba(60, 64, 67, 0.3), 0px 1px 3px 1px rgba(60, 64, 67, 0.15);\n",
              "      fill: #174EA6;\n",
              "    }\n",
              "\n",
              "    [theme=dark] .colab-df-convert {\n",
              "      background-color: #3B4455;\n",
              "      fill: #D2E3FC;\n",
              "    }\n",
              "\n",
              "    [theme=dark] .colab-df-convert:hover {\n",
              "      background-color: #434B5C;\n",
              "      box-shadow: 0px 1px 3px 1px rgba(0, 0, 0, 0.15);\n",
              "      filter: drop-shadow(0px 1px 2px rgba(0, 0, 0, 0.3));\n",
              "      fill: #FFFFFF;\n",
              "    }\n",
              "  </style>\n",
              "\n",
              "      <script>\n",
              "        const buttonEl =\n",
              "          document.querySelector('#df-e4d88133-ab81-4332-87ca-b64a7d6873be button.colab-df-convert');\n",
              "        buttonEl.style.display =\n",
              "          google.colab.kernel.accessAllowed ? 'block' : 'none';\n",
              "\n",
              "        async function convertToInteractive(key) {\n",
              "          const element = document.querySelector('#df-e4d88133-ab81-4332-87ca-b64a7d6873be');\n",
              "          const dataTable =\n",
              "            await google.colab.kernel.invokeFunction('convertToInteractive',\n",
              "                                                     [key], {});\n",
              "          if (!dataTable) return;\n",
              "\n",
              "          const docLinkHtml = 'Like what you see? Visit the ' +\n",
              "            '<a target=\"_blank\" href=https://colab.research.google.com/notebooks/data_table.ipynb>data table notebook</a>'\n",
              "            + ' to learn more about interactive tables.';\n",
              "          element.innerHTML = '';\n",
              "          dataTable['output_type'] = 'display_data';\n",
              "          await google.colab.output.renderOutput(dataTable, element);\n",
              "          const docLink = document.createElement('div');\n",
              "          docLink.innerHTML = docLinkHtml;\n",
              "          element.appendChild(docLink);\n",
              "        }\n",
              "      </script>\n",
              "    </div>\n",
              "  </div>\n",
              "  "
            ]
          },
          "metadata": {},
          "execution_count": 169
        }
      ]
    },
    {
      "cell_type": "code",
      "source": [
        "# delete duplicates if any\n",
        "df.drop_duplicates(subset=None, keep='first', inplace=True)\n",
        "df.reset_index(inplace=True, drop=True)\n",
        "\n",
        "df.describe()"
      ],
      "metadata": {
        "id": "n4ifh1oa_i6V",
        "colab": {
          "base_uri": "https://localhost:8080/",
          "height": 300
        },
        "outputId": "467cd29d-3c85-4cb4-9156-9ebe2a02232e"
      },
      "execution_count": null,
      "outputs": [
        {
          "output_type": "execute_result",
          "data": {
            "text/plain": [
              "              label\n",
              "count  11541.000000\n",
              "mean       0.481847\n",
              "std        0.499692\n",
              "min        0.000000\n",
              "25%        0.000000\n",
              "50%        0.000000\n",
              "75%        1.000000\n",
              "max        1.000000"
            ],
            "text/html": [
              "\n",
              "  <div id=\"df-2def166b-2edb-4915-b032-cf5d7d724454\">\n",
              "    <div class=\"colab-df-container\">\n",
              "      <div>\n",
              "<style scoped>\n",
              "    .dataframe tbody tr th:only-of-type {\n",
              "        vertical-align: middle;\n",
              "    }\n",
              "\n",
              "    .dataframe tbody tr th {\n",
              "        vertical-align: top;\n",
              "    }\n",
              "\n",
              "    .dataframe thead th {\n",
              "        text-align: right;\n",
              "    }\n",
              "</style>\n",
              "<table border=\"1\" class=\"dataframe\">\n",
              "  <thead>\n",
              "    <tr style=\"text-align: right;\">\n",
              "      <th></th>\n",
              "      <th>label</th>\n",
              "    </tr>\n",
              "  </thead>\n",
              "  <tbody>\n",
              "    <tr>\n",
              "      <th>count</th>\n",
              "      <td>11541.000000</td>\n",
              "    </tr>\n",
              "    <tr>\n",
              "      <th>mean</th>\n",
              "      <td>0.481847</td>\n",
              "    </tr>\n",
              "    <tr>\n",
              "      <th>std</th>\n",
              "      <td>0.499692</td>\n",
              "    </tr>\n",
              "    <tr>\n",
              "      <th>min</th>\n",
              "      <td>0.000000</td>\n",
              "    </tr>\n",
              "    <tr>\n",
              "      <th>25%</th>\n",
              "      <td>0.000000</td>\n",
              "    </tr>\n",
              "    <tr>\n",
              "      <th>50%</th>\n",
              "      <td>0.000000</td>\n",
              "    </tr>\n",
              "    <tr>\n",
              "      <th>75%</th>\n",
              "      <td>1.000000</td>\n",
              "    </tr>\n",
              "    <tr>\n",
              "      <th>max</th>\n",
              "      <td>1.000000</td>\n",
              "    </tr>\n",
              "  </tbody>\n",
              "</table>\n",
              "</div>\n",
              "      <button class=\"colab-df-convert\" onclick=\"convertToInteractive('df-2def166b-2edb-4915-b032-cf5d7d724454')\"\n",
              "              title=\"Convert this dataframe to an interactive table.\"\n",
              "              style=\"display:none;\">\n",
              "        \n",
              "  <svg xmlns=\"http://www.w3.org/2000/svg\" height=\"24px\"viewBox=\"0 0 24 24\"\n",
              "       width=\"24px\">\n",
              "    <path d=\"M0 0h24v24H0V0z\" fill=\"none\"/>\n",
              "    <path d=\"M18.56 5.44l.94 2.06.94-2.06 2.06-.94-2.06-.94-.94-2.06-.94 2.06-2.06.94zm-11 1L8.5 8.5l.94-2.06 2.06-.94-2.06-.94L8.5 2.5l-.94 2.06-2.06.94zm10 10l.94 2.06.94-2.06 2.06-.94-2.06-.94-.94-2.06-.94 2.06-2.06.94z\"/><path d=\"M17.41 7.96l-1.37-1.37c-.4-.4-.92-.59-1.43-.59-.52 0-1.04.2-1.43.59L10.3 9.45l-7.72 7.72c-.78.78-.78 2.05 0 2.83L4 21.41c.39.39.9.59 1.41.59.51 0 1.02-.2 1.41-.59l7.78-7.78 2.81-2.81c.8-.78.8-2.07 0-2.86zM5.41 20L4 18.59l7.72-7.72 1.47 1.35L5.41 20z\"/>\n",
              "  </svg>\n",
              "      </button>\n",
              "      \n",
              "  <style>\n",
              "    .colab-df-container {\n",
              "      display:flex;\n",
              "      flex-wrap:wrap;\n",
              "      gap: 12px;\n",
              "    }\n",
              "\n",
              "    .colab-df-convert {\n",
              "      background-color: #E8F0FE;\n",
              "      border: none;\n",
              "      border-radius: 50%;\n",
              "      cursor: pointer;\n",
              "      display: none;\n",
              "      fill: #1967D2;\n",
              "      height: 32px;\n",
              "      padding: 0 0 0 0;\n",
              "      width: 32px;\n",
              "    }\n",
              "\n",
              "    .colab-df-convert:hover {\n",
              "      background-color: #E2EBFA;\n",
              "      box-shadow: 0px 1px 2px rgba(60, 64, 67, 0.3), 0px 1px 3px 1px rgba(60, 64, 67, 0.15);\n",
              "      fill: #174EA6;\n",
              "    }\n",
              "\n",
              "    [theme=dark] .colab-df-convert {\n",
              "      background-color: #3B4455;\n",
              "      fill: #D2E3FC;\n",
              "    }\n",
              "\n",
              "    [theme=dark] .colab-df-convert:hover {\n",
              "      background-color: #434B5C;\n",
              "      box-shadow: 0px 1px 3px 1px rgba(0, 0, 0, 0.15);\n",
              "      filter: drop-shadow(0px 1px 2px rgba(0, 0, 0, 0.3));\n",
              "      fill: #FFFFFF;\n",
              "    }\n",
              "  </style>\n",
              "\n",
              "      <script>\n",
              "        const buttonEl =\n",
              "          document.querySelector('#df-2def166b-2edb-4915-b032-cf5d7d724454 button.colab-df-convert');\n",
              "        buttonEl.style.display =\n",
              "          google.colab.kernel.accessAllowed ? 'block' : 'none';\n",
              "\n",
              "        async function convertToInteractive(key) {\n",
              "          const element = document.querySelector('#df-2def166b-2edb-4915-b032-cf5d7d724454');\n",
              "          const dataTable =\n",
              "            await google.colab.kernel.invokeFunction('convertToInteractive',\n",
              "                                                     [key], {});\n",
              "          if (!dataTable) return;\n",
              "\n",
              "          const docLinkHtml = 'Like what you see? Visit the ' +\n",
              "            '<a target=\"_blank\" href=https://colab.research.google.com/notebooks/data_table.ipynb>data table notebook</a>'\n",
              "            + ' to learn more about interactive tables.';\n",
              "          element.innerHTML = '';\n",
              "          dataTable['output_type'] = 'display_data';\n",
              "          await google.colab.output.renderOutput(dataTable, element);\n",
              "          const docLink = document.createElement('div');\n",
              "          docLink.innerHTML = docLinkHtml;\n",
              "          element.appendChild(docLink);\n",
              "        }\n",
              "      </script>\n",
              "    </div>\n",
              "  </div>\n",
              "  "
            ]
          },
          "metadata": {},
          "execution_count": 170
        }
      ]
    },
    {
      "cell_type": "code",
      "source": [
        "# plotting class distribution\n",
        "x = df['label'].value_counts()\n",
        "sns.barplot(x.index, x)"
      ],
      "metadata": {
        "colab": {
          "base_uri": "https://localhost:8080/",
          "height": 340
        },
        "id": "nyI0Jg2FELaY",
        "outputId": "0b032a4c-9196-4aca-9991-aff40b4e1beb"
      },
      "execution_count": null,
      "outputs": [
        {
          "output_type": "stream",
          "name": "stderr",
          "text": [
            "/usr/local/lib/python3.7/dist-packages/seaborn/_decorators.py:43: FutureWarning: Pass the following variables as keyword args: x, y. From version 0.12, the only valid positional argument will be `data`, and passing other arguments without an explicit keyword will result in an error or misinterpretation.\n",
            "  FutureWarning\n"
          ]
        },
        {
          "output_type": "execute_result",
          "data": {
            "text/plain": [
              "<matplotlib.axes._subplots.AxesSubplot at 0x7fe7d8bd9550>"
            ]
          },
          "metadata": {},
          "execution_count": 171
        },
        {
          "output_type": "display_data",
          "data": {
            "text/plain": [
              "<Figure size 432x288 with 1 Axes>"
            ],
            "image/png": "[encoded data removed]"
          },
          "metadata": {
            "needs_background": "light"
          }
        }
      ]
    },
    {
      "cell_type": "markdown",
      "source": [
        "## Text processing"
      ],
      "metadata": {
        "id": "JvcUCjNqCoVo"
      }
    },
    {
      "cell_type": "code",
      "source": [
        "nltk.download('stopwords')\n",
        "nltk.download('wordnet')\n",
        "nltk.download('omw-1.4')\n",
        "nltk.download('punkt')\n",
        "stop_words = set(stopwords.words(\"english\"))\n",
        "lemmatizer = WordNetLemmatizer()\n",
        "nltk_tokenizer = nltk.tokenize.RegexpTokenizer(r'\\w+')"
      ],
      "metadata": {
        "colab": {
          "base_uri": "https://localhost:8080/"
        },
        "id": "InZ6I3ZMORHe",
        "outputId": "616cb4b9-f2ee-467d-d9b1-e113073cd202"
      },
      "execution_count": null,
      "outputs": [
        {
          "output_type": "stream",
          "name": "stderr",
          "text": [
            "[nltk_data] Downloading package stopwords to /root/nltk_data...\n",
            "[nltk_data]   Package stopwords is already up-to-date!\n",
            "[nltk_data] Downloading package wordnet to /root/nltk_data...\n",
            "[nltk_data]   Package wordnet is already up-to-date!\n",
            "[nltk_data] Downloading package omw-1.4 to /root/nltk_data...\n",
            "[nltk_data]   Package omw-1.4 is already up-to-date!\n",
            "[nltk_data] Downloading package punkt to /root/nltk_data...\n",
            "[nltk_data]   Package punkt is already up-to-date!\n"
          ]
        }
      ]
    },
    {
      "cell_type": "code",
      "source": [
        "def clean(text):\n",
        "  filtered = []\n",
        "  sentences = nltk.sent_tokenize(text)\n",
        "  for sentence in sentences:\n",
        "    sentence = sentence.lower()\n",
        "    tokens = nltk_tokenizer.tokenize(sentence)\n",
        "    filtered_words = [w.strip() for w in tokens if w not in stop_words and len(w) > 1]\n",
        "    filtered.extend(filtered_words)\n",
        "  return filtered"
      ],
      "metadata": {
        "id": "uBtjg2axEQ5o"
      },
      "execution_count": null,
      "outputs": []
    },
    {
      "cell_type": "code",
      "source": [
        "df['clean_text'] = df['text'].apply(lambda x: clean(x))\n",
        "df.head()"
      ],
      "metadata": {
        "id": "xAdUrgo_HQsm",
        "colab": {
          "base_uri": "https://localhost:8080/",
          "height": 206
        },
        "outputId": "a6b954f5-b50d-4c4b-85c5-358d523bc46f"
      },
      "execution_count": null,
      "outputs": [
        {
          "output_type": "execute_result",
          "data": {
            "text/plain": [
              "                                                text  label  \\\n",
              "0  WASHINGTON (Reuters) - The U.S. Congress was w...      0   \n",
              "1  SAN FRANCISCO (Reuters) - California filed a l...      0   \n",
              "2  WASHINGTON (Reuters) - The U.S. Senate on Mond...      0   \n",
              "3  Donald Trump s son-in-law and senior advisor, ...      1   \n",
              "4  Former reality show star Donald Trump has repe...      1   \n",
              "\n",
              "                                          clean_text  \n",
              "0  [washington, reuters, congress, wrestling, hea...  \n",
              "1  [san, francisco, reuters, california, filed, l...  \n",
              "2  [washington, reuters, senate, monday, confirme...  \n",
              "3  [donald, trump, son, law, senior, advisor, jar...  \n",
              "4  [former, reality, show, star, donald, trump, r...  "
            ],
            "text/html": [
              "\n",
              "  <div id=\"df-009187b5-b54c-4bbe-bf18-fc0ec52c2e5d\">\n",
              "    <div class=\"colab-df-container\">\n",
              "      <div>\n",
              "<style scoped>\n",
              "    .dataframe tbody tr th:only-of-type {\n",
              "        vertical-align: middle;\n",
              "    }\n",
              "\n",
              "    .dataframe tbody tr th {\n",
              "        vertical-align: top;\n",
              "    }\n",
              "\n",
              "    .dataframe thead th {\n",
              "        text-align: right;\n",
              "    }\n",
              "</style>\n",
              "<table border=\"1\" class=\"dataframe\">\n",
              "  <thead>\n",
              "    <tr style=\"text-align: right;\">\n",
              "      <th></th>\n",
              "      <th>text</th>\n",
              "      <th>label</th>\n",
              "      <th>clean_text</th>\n",
              "    </tr>\n",
              "  </thead>\n",
              "  <tbody>\n",
              "    <tr>\n",
              "      <th>0</th>\n",
              "      <td>WASHINGTON (Reuters) - The U.S. Congress was w...</td>\n",
              "      <td>0</td>\n",
              "      <td>[washington, reuters, congress, wrestling, hea...</td>\n",
              "    </tr>\n",
              "    <tr>\n",
              "      <th>1</th>\n",
              "      <td>SAN FRANCISCO (Reuters) - California filed a l...</td>\n",
              "      <td>0</td>\n",
              "      <td>[san, francisco, reuters, california, filed, l...</td>\n",
              "    </tr>\n",
              "    <tr>\n",
              "      <th>2</th>\n",
              "      <td>WASHINGTON (Reuters) - The U.S. Senate on Mond...</td>\n",
              "      <td>0</td>\n",
              "      <td>[washington, reuters, senate, monday, confirme...</td>\n",
              "    </tr>\n",
              "    <tr>\n",
              "      <th>3</th>\n",
              "      <td>Donald Trump s son-in-law and senior advisor, ...</td>\n",
              "      <td>1</td>\n",
              "      <td>[donald, trump, son, law, senior, advisor, jar...</td>\n",
              "    </tr>\n",
              "    <tr>\n",
              "      <th>4</th>\n",
              "      <td>Former reality show star Donald Trump has repe...</td>\n",
              "      <td>1</td>\n",
              "      <td>[former, reality, show, star, donald, trump, r...</td>\n",
              "    </tr>\n",
              "  </tbody>\n",
              "</table>\n",
              "</div>\n",
              "      <button class=\"colab-df-convert\" onclick=\"convertToInteractive('df-009187b5-b54c-4bbe-bf18-fc0ec52c2e5d')\"\n",
              "              title=\"Convert this dataframe to an interactive table.\"\n",
              "              style=\"display:none;\">\n",
              "        \n",
              "  <svg xmlns=\"http://www.w3.org/2000/svg\" height=\"24px\"viewBox=\"0 0 24 24\"\n",
              "       width=\"24px\">\n",
              "    <path d=\"M0 0h24v24H0V0z\" fill=\"none\"/>\n",
              "    <path d=\"M18.56 5.44l.94 2.06.94-2.06 2.06-.94-2.06-.94-.94-2.06-.94 2.06-2.06.94zm-11 1L8.5 8.5l.94-2.06 2.06-.94-2.06-.94L8.5 2.5l-.94 2.06-2.06.94zm10 10l.94 2.06.94-2.06 2.06-.94-2.06-.94-.94-2.06-.94 2.06-2.06.94z\"/><path d=\"M17.41 7.96l-1.37-1.37c-.4-.4-.92-.59-1.43-.59-.52 0-1.04.2-1.43.59L10.3 9.45l-7.72 7.72c-.78.78-.78 2.05 0 2.83L4 21.41c.39.39.9.59 1.41.59.51 0 1.02-.2 1.41-.59l7.78-7.78 2.81-2.81c.8-.78.8-2.07 0-2.86zM5.41 20L4 18.59l7.72-7.72 1.47 1.35L5.41 20z\"/>\n",
              "  </svg>\n",
              "      </button>\n",
              "      \n",
              "  <style>\n",
              "    .colab-df-container {\n",
              "      display:flex;\n",
              "      flex-wrap:wrap;\n",
              "      gap: 12px;\n",
              "    }\n",
              "\n",
              "    .colab-df-convert {\n",
              "      background-color: #E8F0FE;\n",
              "      border: none;\n",
              "      border-radius: 50%;\n",
              "      cursor: pointer;\n",
              "      display: none;\n",
              "      fill: #1967D2;\n",
              "      height: 32px;\n",
              "      padding: 0 0 0 0;\n",
              "      width: 32px;\n",
              "    }\n",
              "\n",
              "    .colab-df-convert:hover {\n",
              "      background-color: #E2EBFA;\n",
              "      box-shadow: 0px 1px 2px rgba(60, 64, 67, 0.3), 0px 1px 3px 1px rgba(60, 64, 67, 0.15);\n",
              "      fill: #174EA6;\n",
              "    }\n",
              "\n",
              "    [theme=dark] .colab-df-convert {\n",
              "      background-color: #3B4455;\n",
              "      fill: #D2E3FC;\n",
              "    }\n",
              "\n",
              "    [theme=dark] .colab-df-convert:hover {\n",
              "      background-color: #434B5C;\n",
              "      box-shadow: 0px 1px 3px 1px rgba(0, 0, 0, 0.15);\n",
              "      filter: drop-shadow(0px 1px 2px rgba(0, 0, 0, 0.3));\n",
              "      fill: #FFFFFF;\n",
              "    }\n",
              "  </style>\n",
              "\n",
              "      <script>\n",
              "        const buttonEl =\n",
              "          document.querySelector('#df-009187b5-b54c-4bbe-bf18-fc0ec52c2e5d button.colab-df-convert');\n",
              "        buttonEl.style.display =\n",
              "          google.colab.kernel.accessAllowed ? 'block' : 'none';\n",
              "\n",
              "        async function convertToInteractive(key) {\n",
              "          const element = document.querySelector('#df-009187b5-b54c-4bbe-bf18-fc0ec52c2e5d');\n",
              "          const dataTable =\n",
              "            await google.colab.kernel.invokeFunction('convertToInteractive',\n",
              "                                                     [key], {});\n",
              "          if (!dataTable) return;\n",
              "\n",
              "          const docLinkHtml = 'Like what you see? Visit the ' +\n",
              "            '<a target=\"_blank\" href=https://colab.research.google.com/notebooks/data_table.ipynb>data table notebook</a>'\n",
              "            + ' to learn more about interactive tables.';\n",
              "          element.innerHTML = '';\n",
              "          dataTable['output_type'] = 'display_data';\n",
              "          await google.colab.output.renderOutput(dataTable, element);\n",
              "          const docLink = document.createElement('div');\n",
              "          docLink.innerHTML = docLinkHtml;\n",
              "          element.appendChild(docLink);\n",
              "        }\n",
              "      </script>\n",
              "    </div>\n",
              "  </div>\n",
              "  "
            ]
          },
          "metadata": {},
          "execution_count": 174
        }
      ]
    },
    {
      "cell_type": "code",
      "source": [
        "corpus = [text for text in df['clean_text']]\n",
        "corpus[0]"
      ],
      "metadata": {
        "colab": {
          "base_uri": "https://localhost:8080/"
        },
        "id": "dE4y3y8edPuk",
        "outputId": "c90179a8-4818-43d1-a352-3dffb3bdc24a"
      },
      "execution_count": null,
      "outputs": [
        {
          "output_type": "execute_result",
          "data": {
            "text/plain": [
              "['washington',\n",
              " 'reuters',\n",
              " 'congress',\n",
              " 'wrestling',\n",
              " 'healthcare',\n",
              " 'tuesday',\n",
              " 'lawmakers',\n",
              " 'parties',\n",
              " 'considered',\n",
              " 'approaches',\n",
              " 'beyond',\n",
              " 'simply',\n",
              " 'repealing',\n",
              " 'replacing',\n",
              " 'obamacare',\n",
              " 'widened',\n",
              " 'healthcare',\n",
              " 'discussion',\n",
              " 'appeared',\n",
              " 'unlikely',\n",
              " 'yield',\n",
              " 'dramatic',\n",
              " 'changes',\n",
              " 'soon',\n",
              " 'marked',\n",
              " 'shift',\n",
              " 'long',\n",
              " 'running',\n",
              " 'republican',\n",
              " 'effort',\n",
              " 'gut',\n",
              " '2010',\n",
              " 'patient',\n",
              " 'protection',\n",
              " 'affordable',\n",
              " 'care',\n",
              " 'act',\n",
              " 'obamacare',\n",
              " 'formally',\n",
              " 'known',\n",
              " 'republicans',\n",
              " 'last',\n",
              " 'attempt',\n",
              " 'july',\n",
              " 'overturn',\n",
              " 'former',\n",
              " 'democratic',\n",
              " 'president',\n",
              " 'barack',\n",
              " 'obama',\n",
              " 'signature',\n",
              " 'healthcare',\n",
              " 'law',\n",
              " 'fell',\n",
              " 'one',\n",
              " 'short',\n",
              " 'senate',\n",
              " 'humiliating',\n",
              " 'defeat',\n",
              " 'president',\n",
              " 'donald',\n",
              " 'trump',\n",
              " 'senate',\n",
              " 'majority',\n",
              " 'leader',\n",
              " 'mitch',\n",
              " 'mcconnell',\n",
              " 'one',\n",
              " 'senate',\n",
              " 'committee',\n",
              " 'bipartisan',\n",
              " 'effort',\n",
              " 'way',\n",
              " 'tuesday',\n",
              " 'repair',\n",
              " 'obamacare',\n",
              " 'without',\n",
              " 'repealing',\n",
              " 'led',\n",
              " 'republican',\n",
              " 'health',\n",
              " 'committee',\n",
              " 'chairman',\n",
              " 'lamar',\n",
              " 'alexander',\n",
              " 'panel',\n",
              " 'top',\n",
              " 'democrat',\n",
              " 'patty',\n",
              " 'murray',\n",
              " 'want',\n",
              " 'stabilize',\n",
              " 'obamacare',\n",
              " 'individual',\n",
              " 'insurance',\n",
              " 'market',\n",
              " 'protecting',\n",
              " 'cost',\n",
              " 'sharing',\n",
              " 'subsidies',\n",
              " 'payments',\n",
              " 'go',\n",
              " 'insurers',\n",
              " 'help',\n",
              " 'reduce',\n",
              " 'pocket',\n",
              " 'medical',\n",
              " 'expenses',\n",
              " 'low',\n",
              " 'income',\n",
              " 'americans',\n",
              " 'enrolled',\n",
              " 'obamacare',\n",
              " 'trump',\n",
              " 'made',\n",
              " 'repealing',\n",
              " 'replacing',\n",
              " 'obamacare',\n",
              " 'major',\n",
              " 'campaign',\n",
              " 'promise',\n",
              " 'repeatedly',\n",
              " 'threatened',\n",
              " 'stop',\n",
              " 'payments',\n",
              " 'insurers',\n",
              " 'say',\n",
              " 'would',\n",
              " 'force',\n",
              " '20',\n",
              " 'percent',\n",
              " 'premium',\n",
              " 'price',\n",
              " 'increase',\n",
              " 'alexander',\n",
              " 'also',\n",
              " 'wants',\n",
              " 'states',\n",
              " 'flexibility',\n",
              " 'design',\n",
              " 'health',\n",
              " 'insurance',\n",
              " 'plans',\n",
              " 'obamacare',\n",
              " 'said',\n",
              " 'tuesday',\n",
              " 'goal',\n",
              " 'small',\n",
              " 'bipartisan',\n",
              " 'step',\n",
              " 'could',\n",
              " 'break',\n",
              " 'years',\n",
              " 'long',\n",
              " 'partisan',\n",
              " 'stalemate',\n",
              " 'law',\n",
              " 'tennessee',\n",
              " 'lawmaker',\n",
              " 'said',\n",
              " 'hoped',\n",
              " 'bipartisan',\n",
              " 'consensus',\n",
              " 'proposal',\n",
              " 'sometime',\n",
              " 'next',\n",
              " 'week',\n",
              " 'although',\n",
              " 'unclear',\n",
              " 'mcconnell',\n",
              " 'would',\n",
              " 'bring',\n",
              " 'measure',\n",
              " 'floor',\n",
              " 'noncommittal',\n",
              " 'asked',\n",
              " 'tuesday',\n",
              " 'republicans',\n",
              " 'supportive',\n",
              " 'wisconsin',\n",
              " 'senator',\n",
              " 'ron',\n",
              " 'johnson',\n",
              " 'said',\n",
              " 'government',\n",
              " 'keep',\n",
              " 'funding',\n",
              " 'cost',\n",
              " 'sharing',\n",
              " 'subsidies',\n",
              " 'insurance',\n",
              " 'premiums',\n",
              " 'would',\n",
              " 'likely',\n",
              " 'rise',\n",
              " 'government',\n",
              " 'would',\n",
              " 'spend',\n",
              " 'money',\n",
              " 'tax',\n",
              " 'credits',\n",
              " 'help',\n",
              " 'consumers',\n",
              " 'afford',\n",
              " 'premiums',\n",
              " 'insurance',\n",
              " 'companies',\n",
              " 'get',\n",
              " 'money',\n",
              " 'either',\n",
              " 'way',\n",
              " 'johnson',\n",
              " 'told',\n",
              " 'reuters',\n",
              " 'maine',\n",
              " 'republican',\n",
              " 'susan',\n",
              " 'collins',\n",
              " 'voted',\n",
              " 'repealing',\n",
              " 'replacing',\n",
              " 'obamacare',\n",
              " 'july',\n",
              " 'said',\n",
              " 'hoped',\n",
              " 'support',\n",
              " 'bipartisan',\n",
              " 'obamacare',\n",
              " 'repair',\n",
              " 'effort',\n",
              " 'based',\n",
              " 'hearings',\n",
              " 'far',\n",
              " 'would',\n",
              " 'expect',\n",
              " 'said',\n",
              " 'effort',\n",
              " 'watched',\n",
              " 'closely',\n",
              " 'companies',\n",
              " 'anthem',\n",
              " 'inc',\n",
              " 'antm',\n",
              " 'trimmed',\n",
              " 'number',\n",
              " 'states',\n",
              " 'counties',\n",
              " 'sell',\n",
              " 'obamacare',\n",
              " 'plans',\n",
              " '2018',\n",
              " 'company',\n",
              " 'said',\n",
              " 'tuesday',\n",
              " 'still',\n",
              " 'working',\n",
              " 'state',\n",
              " 'regulators',\n",
              " 'market',\n",
              " 'participation',\n",
              " 'next',\n",
              " 'year',\n",
              " 'l2n1lt17a',\n",
              " 'anthem',\n",
              " 'insurers',\n",
              " 'deadline',\n",
              " 'sept',\n",
              " '27',\n",
              " 'finalize',\n",
              " '2018',\n",
              " 'obamacare',\n",
              " 'roles',\n",
              " 'separately',\n",
              " 'independent',\n",
              " 'senator',\n",
              " 'bernie',\n",
              " 'sanders',\n",
              " '2016',\n",
              " 'democratic',\n",
              " 'presidential',\n",
              " 'candidate',\n",
              " 'pushing',\n",
              " 'plan',\n",
              " 'widen',\n",
              " 'medicare',\n",
              " 'health',\n",
              " 'insurance',\n",
              " 'program',\n",
              " 'seniors',\n",
              " 'include',\n",
              " 'everyone',\n",
              " 'republicans',\n",
              " 'looked',\n",
              " 'askance',\n",
              " 'idea',\n",
              " 'sanders',\n",
              " 'long',\n",
              " 'championed',\n",
              " 'leading',\n",
              " 'democrats',\n",
              " 'like',\n",
              " 'house',\n",
              " 'democratic',\n",
              " 'whip',\n",
              " 'steny',\n",
              " 'hoyer',\n",
              " 'said',\n",
              " 'priority',\n",
              " 'improving',\n",
              " 'obamacare',\n",
              " 'republican',\n",
              " 'anti',\n",
              " 'obamacare',\n",
              " 'campaign',\n",
              " 'entirely',\n",
              " 'two',\n",
              " 'republicans',\n",
              " 'planning',\n",
              " 'announce',\n",
              " 'new',\n",
              " 'repeal',\n",
              " 'replace',\n",
              " 'proposal',\n",
              " 'wednesday',\n",
              " 'white',\n",
              " 'house',\n",
              " 'support',\n",
              " 'senators',\n",
              " 'lindsey',\n",
              " 'graham',\n",
              " 'bill',\n",
              " 'cassidy',\n",
              " 'offer',\n",
              " 'legislation',\n",
              " 'give',\n",
              " 'states',\n",
              " 'money',\n",
              " 'form',\n",
              " 'block',\n",
              " 'grants',\n",
              " 'instead',\n",
              " 'federal',\n",
              " 'funding',\n",
              " 'states',\n",
              " 'get',\n",
              " 'obamacare',\n",
              " 'critics',\n",
              " 'said',\n",
              " 'approach',\n",
              " 'would',\n",
              " 'effectively',\n",
              " 'cut',\n",
              " 'billions',\n",
              " 'dollars',\n",
              " 'funding',\n",
              " 'obamacare',\n",
              " 'subsidies',\n",
              " 'medicaid',\n",
              " 'program',\n",
              " 'poor',\n",
              " 'many',\n",
              " 'states',\n",
              " 'expanded',\n",
              " 'obamacare',\n",
              " 'cassidy',\n",
              " 'graham',\n",
              " 'bill',\n",
              " 'must',\n",
              " 'pass',\n",
              " 'end',\n",
              " 'september',\n",
              " 'comply',\n",
              " 'senate',\n",
              " 'procedural',\n",
              " 'rules',\n",
              " 'allowing',\n",
              " 'advance',\n",
              " 'simple',\n",
              " 'majority',\n",
              " 'rather',\n",
              " '60',\n",
              " 'votes',\n",
              " 'needed',\n",
              " 'bills',\n",
              " 'would',\n",
              " 'take',\n",
              " 'extraordinary',\n",
              " 'lift',\n",
              " 'get',\n",
              " 'done',\n",
              " 'deadline',\n",
              " 'said',\n",
              " 'senator',\n",
              " 'john',\n",
              " 'thune',\n",
              " 'member',\n",
              " 'republican',\n",
              " 'leadership']"
            ]
          },
          "metadata": {},
          "execution_count": 175
        }
      ]
    },
    {
      "cell_type": "code",
      "source": [
        "EMBEDDING_DIM = 100\n",
        "\n",
        "w2v_model = gensim.models.Word2Vec(sentences=corpus, size=EMBEDDING_DIM, window=5, min_count=1)"
      ],
      "metadata": {
        "id": "QSljsdHesXza"
      },
      "execution_count": null,
      "outputs": []
    },
    {
      "cell_type": "code",
      "source": [
        "len(w2v_model.wv.vocab)"
      ],
      "metadata": {
        "colab": {
          "base_uri": "https://localhost:8080/"
        },
        "id": "CpFAijWstA15",
        "outputId": "83063cca-4c4d-4a57-8007-fdcd934197bf"
      },
      "execution_count": null,
      "outputs": [
        {
          "output_type": "execute_result",
          "data": {
            "text/plain": [
              "75462"
            ]
          },
          "metadata": {},
          "execution_count": 177
        }
      ]
    },
    {
      "cell_type": "code",
      "source": [
        "# exploring vectors\n",
        "w2v_model[\"corona\"]"
      ],
      "metadata": {
        "colab": {
          "base_uri": "https://localhost:8080/"
        },
        "id": "PLrJr5OotOJN",
        "outputId": "1cd0b426-9604-4d31-e2ad-ad75aa25c618"
      },
      "execution_count": null,
      "outputs": [
        {
          "output_type": "stream",
          "name": "stderr",
          "text": [
            "/usr/local/lib/python3.7/dist-packages/ipykernel_launcher.py:2: DeprecationWarning: Call to deprecated `__getitem__` (Method will be removed in 4.0.0, use self.wv.__getitem__() instead).\n",
            "  \n"
          ]
        },
        {
          "output_type": "execute_result",
          "data": {
            "text/plain": [
              "array([ 0.01800725,  0.00422808, -0.00591294,  0.00428865,  0.01137061,\n",
              "        0.00818267,  0.00063457,  0.00261662, -0.0182735 , -0.01283279,\n",
              "        0.00584762,  0.00726235, -0.00149045,  0.02164433,  0.00883233,\n",
              "       -0.01045415,  0.02665832,  0.00242844, -0.00618053,  0.01310779,\n",
              "       -0.00764524, -0.00327101, -0.00938945, -0.01079839, -0.00120457,\n",
              "       -0.01057685,  0.01413775,  0.0184036 ,  0.00274281, -0.00821321,\n",
              "        0.01290542, -0.01585276, -0.00024037,  0.00954775,  0.00446812,\n",
              "        0.0032678 ,  0.02945859, -0.00441589, -0.00485053,  0.01074407,\n",
              "        0.0176003 ,  0.00111343,  0.0022597 , -0.00485907,  0.01147739,\n",
              "       -0.0101071 ,  0.00419377, -0.0016455 , -0.01443238, -0.00417232,\n",
              "       -0.019979  , -0.00912762, -0.01600803,  0.00455326, -0.00367127,\n",
              "       -0.00915628,  0.00444547,  0.01384704,  0.00177011,  0.00177968,\n",
              "       -0.00308014,  0.02204898,  0.01579174,  0.01790479, -0.00379856,\n",
              "        0.00752236, -0.00365105,  0.00790382, -0.00301582, -0.00013801,\n",
              "       -0.01044148, -0.0150295 ,  0.01244015,  0.00442954,  0.01202366,\n",
              "       -0.0025772 ,  0.01305288, -0.01549178,  0.00549926,  0.00412242,\n",
              "        0.00340815, -0.00492686, -0.00087699,  0.03951731,  0.00395021,\n",
              "       -0.00031624, -0.00250857, -0.00869241,  0.02059912, -0.0043018 ,\n",
              "        0.0037427 ,  0.00988536, -0.00626969,  0.01239975,  0.00304299,\n",
              "       -0.00217431,  0.00722166, -0.00981348,  0.01185715, -0.00825291],\n",
              "      dtype=float32)"
            ]
          },
          "metadata": {},
          "execution_count": 178
        }
      ]
    },
    {
      "cell_type": "code",
      "source": [
        "w2v_model.wv.most_similar(\"facebook\")"
      ],
      "metadata": {
        "colab": {
          "base_uri": "https://localhost:8080/"
        },
        "id": "wZC9vCK8tSTD",
        "outputId": "14db506b-f630-4884-b613-ea67b5eff0cd"
      },
      "execution_count": null,
      "outputs": [
        {
          "output_type": "execute_result",
          "data": {
            "text/plain": [
              "[('instagram', 0.7389776706695557),\n",
              " ('blog', 0.7293670177459717),\n",
              " ('google', 0.720524787902832),\n",
              " ('weibo', 0.7080827355384827),\n",
              " ('posts', 0.6889984607696533),\n",
              " ('page', 0.6790876388549805),\n",
              " ('messages', 0.6632435321807861),\n",
              " ('text', 0.6592710018157959),\n",
              " ('classifieds', 0.6589595079421997),\n",
              " ('sinbono', 0.6563298106193542)]"
            ]
          },
          "metadata": {},
          "execution_count": 179
        }
      ]
    },
    {
      "cell_type": "code",
      "source": [
        "w2v_model.wv.most_similar(\"russia\")"
      ],
      "metadata": {
        "colab": {
          "base_uri": "https://localhost:8080/"
        },
        "id": "cxJD12eethEp",
        "outputId": "16dd82ff-1c05-4204-d1cc-ab83e288058e"
      },
      "execution_count": null,
      "outputs": [
        {
          "output_type": "execute_result",
          "data": {
            "text/plain": [
              "[('russians', 0.8121219277381897),\n",
              " ('kremlin', 0.7714242935180664),\n",
              " ('moscow', 0.7701334953308105),\n",
              " ('russian', 0.7671973705291748),\n",
              " ('putin', 0.7001874446868896),\n",
              " ('meddling', 0.6977003812789917),\n",
              " ('collusion', 0.6962973475456238),\n",
              " ('hacking', 0.696239709854126),\n",
              " ('ties', 0.6932521462440491),\n",
              " ('hack', 0.6673329472541809)]"
            ]
          },
          "metadata": {},
          "execution_count": 180
        }
      ]
    },
    {
      "cell_type": "markdown",
      "source": [
        "## Model training"
      ],
      "metadata": {
        "id": "GomtgB-YeQbw"
      }
    },
    {
      "cell_type": "code",
      "source": [
        "# tokenizing text, mapping words to numbers\n",
        "tokenizer = Tokenizer()\n",
        "tokenizer.fit_on_texts(corpus)\n",
        "\n",
        "corpus = tokenizer.texts_to_sequences(corpus)"
      ],
      "metadata": {
        "id": "hmbvyewQtmI7"
      },
      "execution_count": null,
      "outputs": []
    },
    {
      "cell_type": "code",
      "source": [
        "corpus[0][:10]"
      ],
      "metadata": {
        "colab": {
          "base_uri": "https://localhost:8080/"
        },
        "id": "aKA6FnUouQkI",
        "outputId": "cb87e0a8-e93b-4ffe-fa11-f1d9e0db8841"
      },
      "execution_count": null,
      "outputs": [
        {
          "output_type": "execute_result",
          "data": {
            "text/plain": [
              "[46, 48, 100, 12396, 208, 135, 365, 1413, 852, 6066]"
            ]
          },
          "metadata": {},
          "execution_count": 182
        }
      ]
    },
    {
      "cell_type": "code",
      "source": [
        "word_index = tokenizer.word_index\n",
        "for word, num in word_index.items():\n",
        "  print(f\"{word} -> {num}\")\n",
        "  if num == 10:\n",
        "    break"
      ],
      "metadata": {
        "colab": {
          "base_uri": "https://localhost:8080/"
        },
        "id": "BNql01BvufHT",
        "outputId": "8c2fbf74-5245-45ac-9d35-8ccbf783ec77"
      },
      "execution_count": null,
      "outputs": [
        {
          "output_type": "stream",
          "name": "stdout",
          "text": [
            "trump -> 1\n",
            "said -> 2\n",
            "would -> 3\n",
            "president -> 4\n",
            "people -> 5\n",
            "also -> 6\n",
            "one -> 7\n",
            "donald -> 8\n",
            "house -> 9\n",
            "new -> 10\n"
          ]
        }
      ]
    },
    {
      "cell_type": "code",
      "source": [
        "# plot size of input\n",
        "plt.hist([len(text) for text in corpus], bins=500)\n",
        "plt.show()"
      ],
      "metadata": {
        "colab": {
          "base_uri": "https://localhost:8080/",
          "height": 265
        },
        "id": "LSr-VZq3u19T",
        "outputId": "ba76acdc-8925-4e45-e38d-0618481f3d7f"
      },
      "execution_count": null,
      "outputs": [
        {
          "output_type": "display_data",
          "data": {
            "text/plain": [
              "<Figure size 432x288 with 1 Axes>"
            ],
            "image/png": "[encoded data removed]"
          },
          "metadata": {
            "needs_background": "light"
          }
        }
      ]
    },
    {
      "cell_type": "code",
      "source": [
        "# find outliers\n",
        "outliers = np.array([len(text) for text in corpus])\n",
        "len(outliers[outliers < 700])"
      ],
      "metadata": {
        "colab": {
          "base_uri": "https://localhost:8080/"
        },
        "id": "KdLFNb9LvAj0",
        "outputId": "684e4e8b-1031-47f8-80f0-85960337eaf6"
      },
      "execution_count": null,
      "outputs": [
        {
          "output_type": "execute_result",
          "data": {
            "text/plain": [
              "11236"
            ]
          },
          "metadata": {},
          "execution_count": 185
        }
      ]
    },
    {
      "cell_type": "code",
      "source": [
        "# truncate text to 700 words\n",
        "m = 700\n",
        "corpus = pad_sequences(corpus, maxlen=m)"
      ],
      "metadata": {
        "id": "0Nu4mnQ-vLOH"
      },
      "execution_count": null,
      "outputs": []
    },
    {
      "cell_type": "code",
      "source": [
        "vocab_size = len(tokenizer.word_index) + 1"
      ],
      "metadata": {
        "id": "cNaoug21vUWo"
      },
      "execution_count": null,
      "outputs": []
    },
    {
      "cell_type": "code",
      "source": [
        "# create weight matrix from w2v gensim model\n",
        "def get_weight_matrix(model, vocab):\n",
        "  # total vocab size + 0 for unknown words\n",
        "  vocab_size = len(vocab) + 1\n",
        "  # define weight matrix dimensions with all 0\n",
        "  weight_matrix = np.zeros((vocab_size, EMBEDDING_DIM))\n",
        "  # step vocab, store vectors using integer mapping\n",
        "  for word, i in vocab.items():\n",
        "    weight_matrix[i] = model[word]\n",
        "  return weight_matrix"
      ],
      "metadata": {
        "id": "eyrYkBHDvW0n"
      },
      "execution_count": null,
      "outputs": []
    },
    {
      "cell_type": "code",
      "source": [
        "# compute embedding vectors\n",
        "embedding_vectors = get_weight_matrix(w2v_model, word_index)"
      ],
      "metadata": {
        "colab": {
          "base_uri": "https://localhost:8080/"
        },
        "id": "C6Rt-2gVwQXF",
        "outputId": "7ee2d58e-67d7-4dc1-e826-ba94dfba02f9"
      },
      "execution_count": null,
      "outputs": [
        {
          "output_type": "stream",
          "name": "stderr",
          "text": [
            "/usr/local/lib/python3.7/dist-packages/ipykernel_launcher.py:9: DeprecationWarning: Call to deprecated `__getitem__` (Method will be removed in 4.0.0, use self.wv.__getitem__() instead).\n",
            "  if __name__ == '__main__':\n"
          ]
        }
      ]
    },
    {
      "cell_type": "code",
      "source": [
        "# define neural network\n",
        "model = Sequential()\n",
        "# non-trainable embedding layer\n",
        "model.add(Embedding(vocab_size, output_dim=EMBEDDING_DIM, weights=[embedding_vectors], input_length=m, trainable=False))\n",
        "# LSTM\n",
        "model.add(LSTM(units=128))\n",
        "model.add(Dense(1, activation=\"sigmoid\"))\n",
        "\n",
        "model.compile(\n",
        "    optimizer=\"adam\",\n",
        "    loss=\"binary_crossentropy\",\n",
        "    metrics=\"acc\"\n",
        ")\n",
        "\n",
        "model.summary()"
      ],
      "metadata": {
        "colab": {
          "base_uri": "https://localhost:8080/"
        },
        "id": "oZVTLXPGeSoz",
        "outputId": "1195694f-8523-4a53-aaf4-8c5bb3791f8d"
      },
      "execution_count": null,
      "outputs": [
        {
          "output_type": "stream",
          "name": "stdout",
          "text": [
            "Model: \"sequential_2\"\n",
            "_________________________________________________________________\n",
            " Layer (type)                Output Shape              Param #   \n",
            "=================================================================\n",
            " embedding_2 (Embedding)     (None, 700, 100)          7546300   \n",
            "                                                                 \n",
            " lstm_2 (LSTM)               (None, 128)               117248    \n",
            "                                                                 \n",
            " dense_2 (Dense)             (None, 1)                 129       \n",
            "                                                                 \n",
            "=================================================================\n",
            "Total params: 7,663,677\n",
            "Trainable params: 117,377\n",
            "Non-trainable params: 7,546,300\n",
            "_________________________________________________________________\n"
          ]
        }
      ]
    },
    {
      "cell_type": "code",
      "source": [
        "# splitting dataset\n",
        "x_train, x_test, y_train, y_test = train_test_split(\n",
        "    corpus,\n",
        "    df['label'],\n",
        "    test_size=0.3\n",
        ")\n",
        "\n",
        "x_test"
      ],
      "metadata": {
        "id": "7as4DAt4irX0",
        "colab": {
          "base_uri": "https://localhost:8080/"
        },
        "outputId": "623018ff-bbe5-4a97-fa17-625c9351a892"
      },
      "execution_count": null,
      "outputs": [
        {
          "output_type": "execute_result",
          "data": {
            "text/plain": [
              "array([[    0,     0,     0, ...,  1697,    83,    79],\n",
              "       [    0,     0,     0, ...,   357, 10086,  9881],\n",
              "       [    0,     0,     0, ...,  4795,    16,  6026],\n",
              "       ...,\n",
              "       [    0,     0,     0, ...,  1188,   712,  1593],\n",
              "       [    0,     0,     0, ..., 19946,   395,   871],\n",
              "       [    0,     0,     0, ...,   104,  1940,   593]], dtype=int32)"
            ]
          },
          "metadata": {},
          "execution_count": 191
        }
      ]
    },
    {
      "cell_type": "code",
      "source": [
        "# fit model\n",
        "hist = model.fit(\n",
        "    x_train, \n",
        "    y_train,\n",
        "    validation_split=0.3,\n",
        "    batch_size=32,\n",
        "    epochs=10\n",
        ")"
      ],
      "metadata": {
        "colab": {
          "base_uri": "https://localhost:8080/"
        },
        "id": "g2NtVGl1enqs",
        "outputId": "021d1cc8-4504-4a15-eb43-466e36cd746d"
      },
      "execution_count": null,
      "outputs": [
        {
          "output_type": "stream",
          "name": "stdout",
          "text": [
            "Epoch 1/10\n",
            "177/177 [==============================] - 9s 42ms/step - loss: 0.0562 - acc: 0.9846 - val_loss: 0.0350 - val_acc: 0.9889\n",
            "Epoch 2/10\n",
            "177/177 [==============================] - 7s 39ms/step - loss: 0.0260 - acc: 0.9922 - val_loss: 0.0204 - val_acc: 0.9942\n",
            "Epoch 3/10\n",
            "177/177 [==============================] - 7s 40ms/step - loss: 0.0214 - acc: 0.9945 - val_loss: 0.0196 - val_acc: 0.9955\n",
            "Epoch 4/10\n",
            "177/177 [==============================] - 7s 39ms/step - loss: 0.0126 - acc: 0.9965 - val_loss: 0.0189 - val_acc: 0.9942\n",
            "Epoch 5/10\n",
            "177/177 [==============================] - 7s 39ms/step - loss: 0.0116 - acc: 0.9968 - val_loss: 0.0201 - val_acc: 0.9934\n",
            "Epoch 6/10\n",
            "177/177 [==============================] - 7s 39ms/step - loss: 0.0096 - acc: 0.9970 - val_loss: 0.0194 - val_acc: 0.9959\n",
            "Epoch 7/10\n",
            "177/177 [==============================] - 7s 39ms/step - loss: 0.0085 - acc: 0.9972 - val_loss: 0.0234 - val_acc: 0.9938\n",
            "Epoch 8/10\n",
            "177/177 [==============================] - 7s 39ms/step - loss: 0.0024 - acc: 0.9995 - val_loss: 0.0219 - val_acc: 0.9922\n",
            "Epoch 9/10\n",
            "177/177 [==============================] - 7s 39ms/step - loss: 0.0044 - acc: 0.9982 - val_loss: 0.0190 - val_acc: 0.9946\n",
            "Epoch 10/10\n",
            "177/177 [==============================] - 7s 40ms/step - loss: 6.9207e-04 - acc: 0.9998 - val_loss: 0.0207 - val_acc: 0.9946\n"
          ]
        }
      ]
    },
    {
      "cell_type": "code",
      "source": [
        "hist.history"
      ],
      "metadata": {
        "id": "pp7eMpe8f4Qn",
        "colab": {
          "base_uri": "https://localhost:8080/"
        },
        "outputId": "c244e6ed-d80f-4369-a8eb-f629de82051d"
      },
      "execution_count": null,
      "outputs": [
        {
          "output_type": "execute_result",
          "data": {
            "text/plain": [
              "{'loss': [0.05616309121251106,\n",
              "  0.026018545031547546,\n",
              "  0.021358149126172066,\n",
              "  0.012553002685308456,\n",
              "  0.011617067269980907,\n",
              "  0.009630036540329456,\n",
              "  0.008485395461320877,\n",
              "  0.0024065757170319557,\n",
              "  0.004440265707671642,\n",
              "  0.0006920699961483479],\n",
              " 'acc': [0.9846126437187195,\n",
              "  0.9922178983688354,\n",
              "  0.9945171475410461,\n",
              "  0.9964627027511597,\n",
              "  0.9968163967132568,\n",
              "  0.9969933032989502,\n",
              "  0.9971701502799988,\n",
              "  0.9994693994522095,\n",
              "  0.9982313513755798,\n",
              "  0.9998231530189514],\n",
              " 'val_loss': [0.03503362089395523,\n",
              "  0.02043490670621395,\n",
              "  0.01956726238131523,\n",
              "  0.01885615848004818,\n",
              "  0.020120443776249886,\n",
              "  0.01943049766123295,\n",
              "  0.023380758240818977,\n",
              "  0.021912531927227974,\n",
              "  0.01902959868311882,\n",
              "  0.020682109519839287],\n",
              " 'val_acc': [0.9888613820075989,\n",
              "  0.9942244291305542,\n",
              "  0.9954620599746704,\n",
              "  0.9942244291305542,\n",
              "  0.9933993220329285,\n",
              "  0.9958745837211609,\n",
              "  0.9938119053840637,\n",
              "  0.9921616911888123,\n",
              "  0.9946369528770447,\n",
              "  0.9946369528770447]}"
            ]
          },
          "metadata": {},
          "execution_count": 193
        }
      ]
    },
    {
      "cell_type": "code",
      "source": [
        "# loss-accuracy visualisation\n",
        "plt.figure(figsize=(10, 4))\n",
        "\n",
        "plt.subplot(1, 2, 1)\n",
        "plt.plot(hist.history['loss'], color=\"red\")\n",
        "plt.plot(hist.history['val_loss'], color=\"blue\", linestyle=\"--\")\n",
        "plt.ylim(0, 1)\n",
        "plt.title(\"Loss\")\n",
        "\n",
        "plt.subplot(1, 2, 2)\n",
        "plt.plot(hist.history['acc'], color=\"red\")\n",
        "plt.plot(hist.history['val_acc'], color=\"blue\", linestyle=\"--\")\n",
        "plt.ylim(0, 1)\n",
        "plt.title(\"Accuracy\")"
      ],
      "metadata": {
        "id": "EJUb-PwBf6Jx",
        "colab": {
          "base_uri": "https://localhost:8080/",
          "height": 299
        },
        "outputId": "c8d7609e-3b5e-4ae3-faba-5d49f4b1aaee"
      },
      "execution_count": null,
      "outputs": [
        {
          "output_type": "execute_result",
          "data": {
            "text/plain": [
              "Text(0.5, 1.0, 'Accuracy')"
            ]
          },
          "metadata": {},
          "execution_count": 194
        },
        {
          "output_type": "display_data",
          "data": {
            "text/plain": [
              "<Figure size 720x288 with 2 Axes>"
            ],
            "image/png": "[encoded data removed]"
          },
          "metadata": {
            "needs_background": "light"
          }
        }
      ]
    },
    {
      "cell_type": "markdown",
      "source": [
        "## Model evaluation"
      ],
      "metadata": {
        "id": "mH8EfbDGgSBE"
      }
    },
    {
      "cell_type": "code",
      "source": [
        "# check predictions\n",
        "prediction = model.predict(x_test)\n",
        "y_prediction = np.where(prediction > 0.5, 1, 0)"
      ],
      "metadata": {
        "id": "hDkjbn8TgRd2"
      },
      "execution_count": null,
      "outputs": []
    },
    {
      "cell_type": "code",
      "source": [
        "model.evaluate(y_test, y_prediction)"
      ],
      "metadata": {
        "id": "_KZsTcwggQsH",
        "colab": {
          "base_uri": "https://localhost:8080/"
        },
        "outputId": "75fbb846-7365-4847-bc52-f0969925215c"
      },
      "execution_count": null,
      "outputs": [
        {
          "output_type": "stream",
          "name": "stderr",
          "text": [
            "WARNING:tensorflow:Model was constructed with shape (None, 700) for input KerasTensor(type_spec=TensorSpec(shape=(None, 700), dtype=tf.float32, name='embedding_2_input'), name='embedding_2_input', description=\"created by layer 'embedding_2_input'\"), but it was called on an input with incompatible shape (None, 1).\n"
          ]
        },
        {
          "output_type": "stream",
          "name": "stdout",
          "text": [
            "109/109 [==============================] - 1s 3ms/step - loss: 0.7022 - acc: 0.5227\n"
          ]
        },
        {
          "output_type": "execute_result",
          "data": {
            "text/plain": [
              "[0.7021849751472473, 0.522668182849884]"
            ]
          },
          "metadata": {},
          "execution_count": 196
        }
      ]
    },
    {
      "cell_type": "code",
      "source": [
        "print(f\"Accuracy score: {metrics.accuracy_score(y_test, y_prediction)}\")\n",
        "print(f\"Confusion matrix: {metrics.confusion_matrix(y_test, y_prediction)}\")\n",
        "print(metrics.classification_report(y_test, y_prediction))"
      ],
      "metadata": {
        "id": "MLSRtvJPghUw",
        "colab": {
          "base_uri": "https://localhost:8080/"
        },
        "outputId": "8367316b-3604-4bcb-a1a2-4d3d9f064bb4"
      },
      "execution_count": null,
      "outputs": [
        {
          "output_type": "stream",
          "name": "stdout",
          "text": [
            "Accuracy score: 0.9907594571181056\n",
            "Confusion matrix: [[1790   12]\n",
            " [  20 1641]]\n",
            "              precision    recall  f1-score   support\n",
            "\n",
            "           0       0.99      0.99      0.99      1802\n",
            "           1       0.99      0.99      0.99      1661\n",
            "\n",
            "    accuracy                           0.99      3463\n",
            "   macro avg       0.99      0.99      0.99      3463\n",
            "weighted avg       0.99      0.99      0.99      3463\n",
            "\n"
          ]
        }
      ]
    },
    {
      "cell_type": "markdown",
      "source": [
        "## Saving model"
      ],
      "metadata": {
        "id": "Rb9OyGBCxC3y"
      }
    },
    {
      "cell_type": "code",
      "source": [
        "# save model\n",
        "model.save('nfn_model.h5')\n",
        "\n",
        "# save tokenizer\n",
        "nfn_tokenizer = tokenizer.to_json()\n",
        "with io.open('tokenizer.json', 'w', encoding='utf-8') as f:\n",
        "  f.write(json.dumps(nfn_tokenizer, ensure_ascii=False))"
      ],
      "metadata": {
        "id": "jtVThkfxxDpr"
      },
      "execution_count": null,
      "outputs": []
    },
    {
      "cell_type": "markdown",
      "source": [
        "## Load and test model (for demonstration purposes, more convenient than API)"
      ],
      "metadata": {
        "id": "CFCFAbiK6Fn0"
      }
    },
    {
      "cell_type": "code",
      "source": [
        "# import modules\n",
        "import io, json\n",
        "import nltk\n",
        "from nltk.corpus import stopwords\n",
        "nltk.download('stopwords')\n",
        "nltk.download('omw-1.4')\n",
        "nltk.download('punkt')\n",
        "stop_words = set(stopwords.words(\"english\"))\n",
        "nltk_tokenizer = nltk.tokenize.RegexpTokenizer(r'\\w+')\n",
        "import tensorflow as tf\n",
        "import gensim\n",
        "from tensorflow import keras\n",
        "from keras.preprocessing.text import Tokenizer, tokenizer_from_json\n",
        "from keras.preprocessing.sequence import pad_sequences"
      ],
      "metadata": {
        "colab": {
          "base_uri": "https://localhost:8080/"
        },
        "id": "NHmkjBRPOTtH",
        "outputId": "ffd738b3-3a54-4594-8532-c458b554cbb6"
      },
      "execution_count": null,
      "outputs": [
        {
          "output_type": "stream",
          "name": "stderr",
          "text": [
            "[nltk_data] Downloading package stopwords to /root/nltk_data...\n",
            "[nltk_data]   Package stopwords is already up-to-date!\n",
            "[nltk_data] Downloading package omw-1.4 to /root/nltk_data...\n",
            "[nltk_data]   Package omw-1.4 is already up-to-date!\n",
            "[nltk_data] Downloading package punkt to /root/nltk_data...\n",
            "[nltk_data]   Package punkt is already up-to-date!\n"
          ]
        }
      ]
    },
    {
      "cell_type": "code",
      "source": [
        "# load model\n",
        "nfn_model = tf.keras.models.load_model('nfn_model.h5')\n",
        "\n",
        "# load tokenizer\n",
        "with open('tokenizer.json') as f:\n",
        "    tokenizer_json = json.load(f)\n",
        "    nfn_tokenizer = tf.keras.preprocessing.text.tokenizer_from_json(tokenizer_json)\n",
        "\n",
        "# define clean\n",
        "def clean(text):\n",
        "  filtered = []\n",
        "  sentences = nltk.sent_tokenize(text)\n",
        "  for sentence in sentences:\n",
        "    sentence = sentence.lower()\n",
        "    tokens = nltk_tokenizer.tokenize(sentence)\n",
        "    filtered_words = [w.strip() for w in tokens if w not in stop_words and len(w) > 1]\n",
        "    filtered.extend(filtered_words)\n",
        "  return filtered"
      ],
      "metadata": {
        "id": "aNQ2uplrMwVU"
      },
      "execution_count": null,
      "outputs": []
    },
    {
      "cell_type": "code",
      "source": [
        "# https://www.theonion.com/nasa-worried-moon-won-t-remember-them-1849492372\n",
        "onionnews = '''WASHINGTON—In a press conference Monday, NASA administrator Bill Nelson confirmed the biggest concern agency officials had about returning to the moon was that it might not remember them. “It’s been, jeez, what, almost 50 years? We just hope it’s not super awkward,” said Nelson, who noted that NASA astronauts were currently undergoing rigorous training to simulate what it would be like when they landed and the moon gave them a completely blank look. “I’m not saying we’re expecting the worst-case scenario, but, I mean, we haven’t exactly been keeping in touch. Hopefully it still has the flag we got it. My God, though, what if we don’t even recognize it?” At press time, Nelson added that if things with the moon didn’t work out, the space agency would try its luck with Mars.'''\n",
        "onionnews"
      ],
      "metadata": {
        "colab": {
          "base_uri": "https://localhost:8080/",
          "height": 220
        },
        "id": "Rf9B_0NP6biD",
        "outputId": "bd599306-52e8-4e70-a24c-19d722c10969"
      },
      "execution_count": null,
      "outputs": [
        {
          "output_type": "execute_result",
          "data": {
            "text/plain": [
              "'WASHINGTON—In a press conference Monday, NASA administrator Bill Nelson confirmed the biggest concern agency officials had about returning to the moon was that it might not remember them. “It’s been, jeez, what, almost 50 years? We just hope it’s not super awkward,” said Nelson, who noted that NASA astronauts were currently undergoing rigorous training to simulate what it would be like when they landed and the moon gave them a completely blank look. “I’m not saying we’re expecting the worst-case scenario, but, I mean, we haven’t exactly been keeping in touch. Hopefully it still has the flag we got it. My God, though, what if we don’t even recognize it?” At press time, Nelson added that if things with the moon didn’t work out, the space agency would try its luck with Mars.'"
            ],
            "application/vnd.google.colaboratory.intrinsic+json": {
              "type": "string"
            }
          },
          "metadata": {},
          "execution_count": 24
        }
      ]
    },
    {
      "cell_type": "code",
      "source": [
        "# https://www.bbc.com/news/uk-62875589\n",
        "bbcnews = '''The Duke of Sussex has paid tribute to his grandmother the Queen, thanking her for her commitment to service, sound advice and \"infectious smile\". Making his first statement since her death, Prince Harry said: \"We, too, smile knowing that you and grandpa are reunited now.\" He said he was grateful for the memories of the Queen meeting her \"beloved great-grandchildren\". \"We now honour my father in his new role as King Charles III,\" he added. In his statement, written on his Archewell website, Harry described the Queen as a \"guiding compass\". \"Her unwavering grace and dignity remained true throughout her life and now her everlasting legacy,\" he added. \"Let us echo the words she spoke after the passing of her husband, Prince Philip, words which can bring comfort to all of us now: 'Life, of course, consists of final partings as well as first meetings.'.\"'''\n",
        "bbcnews"
      ],
      "metadata": {
        "colab": {
          "base_uri": "https://localhost:8080/",
          "height": 238
        },
        "id": "dKoN9Byk9SyR",
        "outputId": "4d862228-af0b-416c-f24a-66c942156599"
      },
      "execution_count": null,
      "outputs": [
        {
          "output_type": "execute_result",
          "data": {
            "text/plain": [
              "'The Duke of Sussex has paid tribute to his grandmother the Queen, thanking her for her commitment to service, sound advice and \"infectious smile\". Making his first statement since her death, Prince Harry said: \"We, too, smile knowing that you and grandpa are reunited now.\" He said he was grateful for the memories of the Queen meeting her \"beloved great-grandchildren\". \"We now honour my father in his new role as King Charles III,\" he added. In his statement, written on his Archewell website, Harry described the Queen as a \"guiding compass\". \"Her unwavering grace and dignity remained true throughout her life and now her everlasting legacy,\" he added. \"Let us echo the words she spoke after the passing of her husband, Prince Philip, words which can bring comfort to all of us now: \\'Life, of course, consists of final partings as well as first meetings.\\'.\"'"
            ],
            "application/vnd.google.colaboratory.intrinsic+json": {
              "type": "string"
            }
          },
          "metadata": {},
          "execution_count": 30
        }
      ]
    },
    {
      "cell_type": "code",
      "source": [
        "onionnews = clean(onionnews)\n",
        "onionnews = nfn_tokenizer.texts_to_sequences([onionnews])\n",
        "onionnews = pad_sequences(onionnews, maxlen=700)"
      ],
      "metadata": {
        "id": "x8vBuaIf9gty"
      },
      "execution_count": null,
      "outputs": []
    },
    {
      "cell_type": "code",
      "source": [
        "nfn_model.predict(onionnews)"
      ],
      "metadata": {
        "colab": {
          "base_uri": "https://localhost:8080/"
        },
        "id": "rvok9aY8A-pg",
        "outputId": "83a93c5d-daea-4150-d398-20f0efe6f4d3"
      },
      "execution_count": null,
      "outputs": [
        {
          "output_type": "execute_result",
          "data": {
            "text/plain": [
              "array([[0.9978059]], dtype=float32)"
            ]
          },
          "metadata": {},
          "execution_count": 27
        }
      ]
    },
    {
      "cell_type": "code",
      "source": [
        "bbcnews = clean(bbcnews)\n",
        "bbcnews = nfn_tokenizer.texts_to_sequences([bbcnews])\n",
        "bbcnews = pad_sequences(bbcnews, maxlen=700)"
      ],
      "metadata": {
        "id": "VzYTZ3NGBJWy"
      },
      "execution_count": null,
      "outputs": []
    },
    {
      "cell_type": "code",
      "source": [
        "nfn_model.predict(bbcnews)[0][0]"
      ],
      "metadata": {
        "colab": {
          "base_uri": "https://localhost:8080/"
        },
        "id": "pDlNr44wBNkU",
        "outputId": "fd0bfcd3-66a2-4bad-c1ee-d6426f717ea6"
      },
      "execution_count": null,
      "outputs": [
        {
          "output_type": "execute_result",
          "data": {
            "text/plain": [
              "0.00036726994"
            ]
          },
          "metadata": {},
          "execution_count": 33
        }
      ]
    }
  ]
}